{
 "cells": [
  {
   "cell_type": "code",
   "execution_count": null,
   "metadata": {},
   "outputs": [],
   "source": [
    "import pandas as pd\n",
    "import matplotlib\n",
    "from scipy.spatial.distance import pdist, squareform\n",
    "%matplotlib inline"
   ]
  },
  {
   "cell_type": "code",
   "execution_count": null,
   "metadata": {},
   "outputs": [],
   "source": [
    "datos=pd.read_csv(\"HTA_Enf_copia.csv\",sep=\";\")"
   ]
  },
  {
   "cell_type": "code",
   "execution_count": null,
   "metadata": {},
   "outputs": [],
   "source": [
    "datos.head()"
   ]
  },
  {
   "cell_type": "code",
   "execution_count": null,
   "metadata": {},
   "outputs": [],
   "source": [
    "def vacias (datos):\n",
    "    borrar=[]\n",
    "    columnas=datos.columns.tolist()\n",
    "    for column in columnas:\n",
    "        sum_total = datos[column].sum()\n",
    "        if sum_total == 0:\n",
    "            borrar.append(column)\n",
    "        else:\n",
    "            pass\n",
    "    return borrar"
   ]
  },
  {
   "cell_type": "code",
   "execution_count": null,
   "metadata": {},
   "outputs": [],
   "source": [
    "borrar=vacias(datos)"
   ]
  },
  {
   "cell_type": "code",
   "execution_count": null,
   "metadata": {},
   "outputs": [],
   "source": [
    "datos=datos.drop(columns=borrar,axis=1)"
   ]
  },
  {
   "cell_type": "code",
   "execution_count": null,
   "metadata": {},
   "outputs": [],
   "source": [
    "#Borrar filas que tenga TODOS los valores 0.\n",
    "\"\"\"\n",
    "\n",
    "fila=datos.iloc[~(datos==0).all(axis=1)]\n",
    "fila\"\"\""
   ]
  },
  {
   "cell_type": "code",
   "execution_count": null,
   "metadata": {},
   "outputs": [],
   "source": [
    "#Ahora recalculo una variable en base a las variables con resultados parecidos.\n",
    "\n",
    "\n",
    "def agrupar(row):\n",
    "    i=\"Apnea del sueño (AP)\"\n",
    "    j=\"Apnea del sueño (Dx)\"\n",
    "    if row[i]==row[j]:\n",
    "        return row[i]\n",
    "    elif row[i]>row[j]:\n",
    "        return row[i]\n",
    "    else:\n",
    "        return row[j]\n",
    "\n",
    "datos['Síndrome de apnea obstructiva del sueño (To) I']=datos.apply(lambda row: agrupar(row),axis=1)\n",
    "\n",
    "una=\"Apnea del sueño (AP)\"\n",
    "dos=\"Apnea del sueño (Dx)\"    \n",
    "datos.drop([una,dos],axis=1,inplace=True)"
   ]
  },
  {
   "cell_type": "code",
   "execution_count": null,
   "metadata": {},
   "outputs": [],
   "source": [
    "def agrupar(row):\n",
    "    i='Síndrome de apnea obstructiva del sueño (AP)'\n",
    "    j='Síndrome de apnea obstructiva del sueño (Dx)'\n",
    "    if row[i]==row[j]:\n",
    "        return row[i]\n",
    "    elif row[i]>row[j]:\n",
    "        return row[i]\n",
    "    else:\n",
    "        return row[j]\n",
    "\n",
    "datos['Síndrome de apnea obstructiva del sueño (To) II']=datos.apply(lambda row: agrupar(row),axis=1)\n",
    "\n",
    "una='Síndrome de apnea obstructiva del sueño (AP)'\n",
    "dos='Síndrome de apnea obstructiva del sueño (Dx)'   \n",
    "datos.drop([una,dos],axis=1,inplace=True)"
   ]
  },
  {
   "cell_type": "code",
   "execution_count": null,
   "metadata": {},
   "outputs": [],
   "source": [
    "def agrupar(row):\n",
    "    i='Nefritis arteriolar (Dx)'\n",
    "    j='Nefritis arteriolar (AP)'\n",
    "    if row[i]==row[j]:\n",
    "        return row[i]\n",
    "    elif row[i]>row[j]:\n",
    "        return row[i]\n",
    "    else:\n",
    "        return row[j]\n",
    "\n",
    "datos['Nefritis arteriolar (To)']=datos.apply(lambda row: agrupar(row),axis=1)\n",
    "\n",
    "una='Nefritis arteriolar (Dx)'\n",
    "dos='Nefritis arteriolar (AP)'   \n",
    "datos.drop([una,dos],axis=1,inplace=True)"
   ]
  },
  {
   "cell_type": "code",
   "execution_count": null,
   "metadata": {},
   "outputs": [],
   "source": [
    "def agrupar(row):\n",
    "    i='Arteriosclerosis coronaria (AP)'\n",
    "    j='Arteriosclerosis coronaria (Dx)'\n",
    "    if row[i]==row[j]:\n",
    "        return row[i]\n",
    "    elif row[i]>row[j]:\n",
    "        return row[i]\n",
    "    else:\n",
    "        return row[j]\n",
    "\n",
    "datos['Arteriosclerosis coronaria (To)']=datos.apply(lambda row: agrupar(row),axis=1)\n",
    "\n",
    "una='Arteriosclerosis coronaria (AP)'\n",
    "dos='Arteriosclerosis coronaria (Dx)'   \n",
    "datos.drop([una,dos],axis=1,inplace=True)"
   ]
  },
  {
   "cell_type": "code",
   "execution_count": null,
   "metadata": {},
   "outputs": [],
   "source": [
    "def agrupar(row):\n",
    "    i='Hipertrofia ventricular (AP)'\n",
    "    j='Hipertrofia ventricular (Dx)'\n",
    "    if row[i]==row[j]:\n",
    "        return row[i]\n",
    "    elif row[i]>row[j]:\n",
    "        return row[i]\n",
    "    else:\n",
    "        return row[j]\n",
    "\n",
    "datos['Hipertrofia ventricular (To)']=datos.apply(lambda row: agrupar(row),axis=1)\n",
    "\n",
    "una='Hipertrofia ventricular (AP)'\n",
    "dos='Hipertrofia ventricular (Dx)'   \n",
    "datos.drop([una,dos],axis=1,inplace=True)"
   ]
  },
  {
   "cell_type": "code",
   "execution_count": null,
   "metadata": {},
   "outputs": [],
   "source": [
    "def agrupar(row):\n",
    "    i='Cardiomegalia hipertrófica (AP)'\n",
    "    j='Hipertrofia ventricular (To)'\n",
    "    if row[i]==row[j]:\n",
    "        return row[i]\n",
    "    elif row[i]>row[j]:\n",
    "        return row[i]\n",
    "    else:\n",
    "        return row[j]\n",
    "\n",
    "datos['Hipertrofia ventricular (To) I']=datos.apply(lambda row: agrupar(row),axis=1)\n",
    "\n",
    "una='Cardiomegalia hipertrófica (AP)'\n",
    "dos='Hipertrofia ventricular (To)'   \n",
    "datos.drop([una,dos],axis=1,inplace=True)"
   ]
  },
  {
   "cell_type": "code",
   "execution_count": null,
   "metadata": {},
   "outputs": [],
   "source": [
    "def agrupar(row):\n",
    "    i='Glomerulonefritis crónica (AP)'\n",
    "    j='Glomerulonefritis crónica (Dx)'\n",
    "    if row[i]==row[j]:\n",
    "        return row[i]\n",
    "    elif row[i]>row[j]:\n",
    "        return row[i]\n",
    "    else:\n",
    "        return row[j]\n",
    "\n",
    "datos['Glomerulonefritis crónica (To)']=datos.apply(lambda row: agrupar(row),axis=1)\n",
    "\n",
    "una='Glomerulonefritis crónica (AP)'\n",
    "dos='Glomerulonefritis crónica (Dx)'   \n",
    "datos.drop([una,dos],axis=1,inplace=True)"
   ]
  },
  {
   "cell_type": "code",
   "execution_count": null,
   "metadata": {},
   "outputs": [],
   "source": [
    "def agrupar(row):\n",
    "    i='Estenosis de arteria renal (AP)'\n",
    "    j='Estenosis de arteria renal (Dx)'\n",
    "    if row[i]==row[j]:\n",
    "        return row[i]\n",
    "    elif row[i]>row[j]:\n",
    "        return row[i]\n",
    "    else:\n",
    "        return row[j]\n",
    "\n",
    "datos['Estenosis de arteria renal (To)']=datos.apply(lambda row: agrupar(row),axis=1)\n",
    "\n",
    "una='Estenosis de arteria renal (AP)'\n",
    "dos='Estenosis de arteria renal (Dx)'   \n",
    "datos.drop([una,dos],axis=1,inplace=True)"
   ]
  },
  {
   "cell_type": "code",
   "execution_count": null,
   "metadata": {},
   "outputs": [],
   "source": [
    "def agrupar(row):\n",
    "    i='Hiperaldosteronismo primario (AP)'\n",
    "    j='Hiperaldosteronismo primario (Dx)'\n",
    "    if row[i]==row[j]:\n",
    "        return row[i]\n",
    "    elif row[i]>row[j]:\n",
    "        return row[i]\n",
    "    else:\n",
    "        return row[j]\n",
    "\n",
    "datos['Hiperaldosteronismo primario (To)']=datos.apply(lambda row: agrupar(row),axis=1)\n",
    "\n",
    "una='Hiperaldosteronismo primario (AP)'\n",
    "dos='Hiperaldosteronismo primario (Dx)'   \n",
    "datos.drop([una,dos],axis=1,inplace=True)"
   ]
  },
  {
   "cell_type": "code",
   "execution_count": null,
   "metadata": {},
   "outputs": [],
   "source": [
    "def agrupar(row):\n",
    "    i='Hipercortisolismo (AP)'\n",
    "    j='Hipercortisolismo (Dx)'\n",
    "    if row[i]==row[j]:\n",
    "        return row[i]\n",
    "    elif row[i]>row[j]:\n",
    "        return row[i]\n",
    "    else:\n",
    "        return row[j]\n",
    "\n",
    "datos['Hipercortisolismo (To)']=datos.apply(lambda row: agrupar(row),axis=1)\n",
    "\n",
    "una='Hipercortisolismo (AP)'\n",
    "dos='Hipercortisolismo (Dx)'   \n",
    "datos.drop([una,dos],axis=1,inplace=True)"
   ]
  },
  {
   "cell_type": "code",
   "execution_count": null,
   "metadata": {},
   "outputs": [],
   "source": [
    "def agrupar(row):\n",
    "    i='Coartación de aorta (AP)'\n",
    "    j='Coartación de aorta (Dx)'\n",
    "    if row[i]==row[j]:\n",
    "        return row[i]\n",
    "    elif row[i]>row[j]:\n",
    "        return row[i]\n",
    "    else:\n",
    "        return row[j]\n",
    "\n",
    "datos['Coartación de aorta (To)']=datos.apply(lambda row: agrupar(row),axis=1)\n",
    "\n",
    "una='Coartación de aorta (AP)'\n",
    "dos='Coartación de aorta (Dx)'  \n",
    "datos.drop([una,dos],axis=1,inplace=True)"
   ]
  },
  {
   "cell_type": "code",
   "execution_count": null,
   "metadata": {},
   "outputs": [],
   "source": [
    "def agrupar(row):\n",
    "    i='Estrés aumentado (AP)'\n",
    "    j='Estrés emocional (AP)'\n",
    "    if row[i]==row[j]:\n",
    "        return row[i]\n",
    "    elif row[i]>row[j]:\n",
    "        return row[i]\n",
    "    else:\n",
    "        return row[j]\n",
    "\n",
    "datos['Estrés aumentado (To)']=datos.apply(lambda row: agrupar(row),axis=1)\n",
    "\n",
    "una='Estrés aumentado (AP)'\n",
    "dos='Estrés emocional (AP)' \n",
    "datos.drop([una,dos],axis=1,inplace=True)"
   ]
  },
  {
   "cell_type": "code",
   "execution_count": null,
   "metadata": {},
   "outputs": [],
   "source": [
    "def agrupar(row):\n",
    "    i='Cefalea occipital (AP)'\n",
    "    j='Cefalea (AP)'\n",
    "    if row[i]==row[j]:\n",
    "        return row[i]\n",
    "    elif row[i]>row[j]:\n",
    "        return row[i]\n",
    "    else:\n",
    "        return row[j]\n",
    "\n",
    "datos['Cefalea (To)']=datos.apply(lambda row: agrupar(row),axis=1)\n",
    "\n",
    "una='Cefalea occipital (AP)'\n",
    "dos='Cefalea (AP)' \n",
    "datos.drop([una,dos],axis=1,inplace=True)"
   ]
  },
  {
   "cell_type": "code",
   "execution_count": null,
   "metadata": {},
   "outputs": [],
   "source": [
    "def agrupar(row):\n",
    "    i='Cefalea (Dx)'\n",
    "    j='Cefalea vascular (AP)'\n",
    "    if row[i]==row[j]:\n",
    "        return row[i]\n",
    "    elif row[i]>row[j]:\n",
    "        return row[i]\n",
    "    else:\n",
    "        return row[j]\n",
    "\n",
    "datos['Cefalea (To) I']=datos.apply(lambda row: agrupar(row),axis=1)\n",
    "\n",
    "una='Cefalea (Dx)'\n",
    "dos='Cefalea vascular (AP)'\n",
    "datos.drop([una,dos],axis=1,inplace=True)"
   ]
  },
  {
   "cell_type": "code",
   "execution_count": null,
   "metadata": {},
   "outputs": [],
   "source": [
    "def agrupar(row):\n",
    "    i='Cefalea vascular (Dx)'\n",
    "    j='Cefalea (To) I'\n",
    "    if row[i]==row[j]:\n",
    "        return row[i]\n",
    "    elif row[i]>row[j]:\n",
    "        return row[i]\n",
    "    else:\n",
    "        return row[j]\n",
    "\n",
    "datos['Cefalea (To) II']=datos.apply(lambda row: agrupar(row),axis=1)\n",
    "\n",
    "una='Cefalea vascular (Dx)'\n",
    "dos='Cefalea (To) I'\n",
    "datos.drop([una,dos],axis=1,inplace=True)"
   ]
  },
  {
   "cell_type": "code",
   "execution_count": null,
   "metadata": {},
   "outputs": [],
   "source": [
    "def agrupar(row):\n",
    "    i='Cefalea (To)'\n",
    "    j='Cefalea (To) II'\n",
    "    if row[i]==row[j]:\n",
    "        return row[i]\n",
    "    elif row[i]>row[j]:\n",
    "        return row[i]\n",
    "    else:\n",
    "        return row[j]\n",
    "\n",
    "datos['Cefalea (To) 1']=datos.apply(lambda row: agrupar(row),axis=1)\n",
    "\n",
    "una='Cefalea (To)'\n",
    "dos='Cefalea (To) II'\n",
    "datos.drop([una,dos],axis=1,inplace=True)"
   ]
  },
  {
   "cell_type": "code",
   "execution_count": null,
   "metadata": {},
   "outputs": [],
   "source": [
    "def agrupar(row):\n",
    "    i='Síndrome de fatiga crónica (AP)'\n",
    "    j='Síndrome de fatiga crónica (Dx)'\n",
    "    if row[i]==row[j]:\n",
    "        return row[i]\n",
    "    elif row[i]>row[j]:\n",
    "        return row[i]\n",
    "    else:\n",
    "        return row[j]\n",
    "\n",
    "datos['Síndrome de fatiga crónica (To)']=datos.apply(lambda row: agrupar(row),axis=1)\n",
    "\n",
    "una='Síndrome de fatiga crónica (AP)'\n",
    "dos='Síndrome de fatiga crónica (Dx)'\n",
    "datos.drop([una,dos],axis=1,inplace=True)"
   ]
  },
  {
   "cell_type": "code",
   "execution_count": null,
   "metadata": {},
   "outputs": [],
   "source": [
    "def agrupar(row):\n",
    "    i='Vértigo y mareos (AP)'\n",
    "    j='Vértigo y mareos (Dx)'\n",
    "    if row[i]==row[j]:\n",
    "        return row[i]\n",
    "    elif row[i]>row[j]:\n",
    "        return row[i]\n",
    "    else:\n",
    "        return row[j]\n",
    "\n",
    "datos['Vértigo y mareos (To)']=datos.apply(lambda row: agrupar(row),axis=1)\n",
    "\n",
    "una='Vértigo y mareos (AP)'\n",
    "dos='Vértigo y mareos (Dx)'\n",
    "datos.drop([una,dos],axis=1,inplace=True)"
   ]
  },
  {
   "cell_type": "code",
   "execution_count": null,
   "metadata": {},
   "outputs": [],
   "source": [
    "def agrupar(row):\n",
    "    i='Palpitaciones (AP)'\n",
    "    j='Palpitaciones (Dx)'\n",
    "    if row[i]==row[j]:\n",
    "        return row[i]\n",
    "    elif row[i]>row[j]:\n",
    "        return row[i]\n",
    "    else:\n",
    "        return row[j]\n",
    "\n",
    "datos['Palpitaciones (0)']=datos.apply(lambda row: agrupar(row),axis=1)\n",
    "\n",
    "una='Palpitaciones (AP)'\n",
    "dos='Palpitaciones (Dx)'\n",
    "datos.drop([una,dos],axis=1,inplace=True)"
   ]
  },
  {
   "cell_type": "code",
   "execution_count": null,
   "metadata": {},
   "outputs": [],
   "source": [
    "def agrupar(row):\n",
    "    i='Palpitaciones - rápidas (AP)'\n",
    "    j='Palpitaciones - rápidas (Dx)'\n",
    "    if row[i]==row[j]:\n",
    "        return row[i]\n",
    "    elif row[i]>row[j]:\n",
    "        return row[i]\n",
    "    else:\n",
    "        return row[j]\n",
    "\n",
    "datos['Palpitaciones - rápidas (0)']=datos.apply(lambda row: agrupar(row),axis=1)\n",
    "\n",
    "una='Palpitaciones - rápidas (AP)'\n",
    "dos='Palpitaciones - rápidas (Dx)'\n",
    "datos.drop([una,dos],axis=1,inplace=True)"
   ]
  },
  {
   "cell_type": "code",
   "execution_count": null,
   "metadata": {},
   "outputs": [],
   "source": [
    "def agrupar(row):\n",
    "    i='Palpitaciones con ritmo regular (AP)'\n",
    "    j='Palpitaciones con ritmo regular (Dx)'\n",
    "    if row[i]==row[j]:\n",
    "        return row[i]\n",
    "    elif row[i]>row[j]:\n",
    "        return row[i]\n",
    "    else:\n",
    "        return row[j]\n",
    "\n",
    "datos['Palpitaciones con ritmo regular (0)']=datos.apply(lambda row: agrupar(row),axis=1)\n",
    "\n",
    "una='Palpitaciones con ritmo regular (AP)'\n",
    "dos='Palpitaciones con ritmo regular (Dx)'\n",
    "datos.drop([una,dos],axis=1,inplace=True)"
   ]
  },
  {
   "cell_type": "code",
   "execution_count": null,
   "metadata": {},
   "outputs": [],
   "source": [
    "def agrupar(row):\n",
    "    i='Palpitaciones (0)'\n",
    "    j='Palpitaciones - rápidas (0)'\n",
    "    if row[i]==row[j]:\n",
    "        return row[i]\n",
    "    elif row[i]>row[j]:\n",
    "        return row[i]\n",
    "    else:\n",
    "        return row[j]\n",
    "\n",
    "datos['Palpitaciones (1)']=datos.apply(lambda row: agrupar(row),axis=1)\n",
    "\n",
    "una='Palpitaciones (0)'\n",
    "dos='Palpitaciones - rápidas (0)'\n",
    "datos.drop([una,dos],axis=1,inplace=True)"
   ]
  },
  {
   "cell_type": "code",
   "execution_count": null,
   "metadata": {},
   "outputs": [],
   "source": [
    "def agrupar(row):\n",
    "    i='Palpitaciones (1)'\n",
    "    j='Palpitaciones con ritmo regular (0)'\n",
    "    if row[i]==row[j]:\n",
    "        return row[i]\n",
    "    elif row[i]>row[j]:\n",
    "        return row[i]\n",
    "    else:\n",
    "        return row[j]\n",
    "\n",
    "datos['Palpitaciones (To)']=datos.apply(lambda row: agrupar(row),axis=1)\n",
    "\n",
    "una='Palpitaciones (1)'\n",
    "dos='Palpitaciones con ritmo regular (0)'\n",
    "datos.drop([una,dos],axis=1,inplace=True)"
   ]
  },
  {
   "cell_type": "code",
   "execution_count": null,
   "metadata": {},
   "outputs": [],
   "source": [
    "def agrupar(row):\n",
    "    i='Impotencia (AP)'\n",
    "    j='Impotencia (Dx)'\n",
    "    if row[i]==row[j]:\n",
    "        return row[i]\n",
    "    elif row[i]>row[j]:\n",
    "        return row[i]\n",
    "    else:\n",
    "        return row[j]\n",
    "\n",
    "datos['Impotencia (To)']=datos.apply(lambda row: agrupar(row),axis=1)\n",
    "\n",
    "una='Impotencia (AP)'\n",
    "dos='Impotencia (Dx)'\n",
    "datos.drop([una,dos],axis=1,inplace=True)"
   ]
  },
  {
   "cell_type": "code",
   "execution_count": null,
   "metadata": {},
   "outputs": [],
   "source": [
    "def agrupar(row):\n",
    "    i='Vasculopatía (AP)'\n",
    "    j='Vasculopatía (Dx)'\n",
    "    if row[i]==row[j]:\n",
    "        return row[i]\n",
    "    elif row[i]>row[j]:\n",
    "        return row[i]\n",
    "    else:\n",
    "        return row[j]\n",
    "\n",
    "datos['Vasculopatía (To)']=datos.apply(lambda row: agrupar(row),axis=1)\n",
    "\n",
    "una='Vasculopatía (AP)'\n",
    "dos='Vasculopatía (Dx)'\n",
    "datos.drop([una,dos],axis=1,inplace=True)"
   ]
  },
  {
   "cell_type": "code",
   "execution_count": null,
   "metadata": {},
   "outputs": [],
   "source": [
    "def agrupar(row):\n",
    "    i='Accidente cerebrovascular isquémico (IC)'\n",
    "    j='Accidente cerebrovascular isquémico (ICP)'\n",
    "    if row[i]==row[j]:\n",
    "        return row[i]\n",
    "    elif row[i]>row[j]:\n",
    "        return row[i]\n",
    "    else:\n",
    "        return row[j]\n",
    "\n",
    "datos['Accidente cerebrovascular isquémico (0)']=datos.apply(lambda row: agrupar(row),axis=1)\n",
    "\n",
    "una='Accidente cerebrovascular isquémico (IC)'\n",
    "dos='Accidente cerebrovascular isquémico (ICP)'\n",
    "datos.drop([una,dos],axis=1,inplace=True)"
   ]
  },
  {
   "cell_type": "code",
   "execution_count": null,
   "metadata": {},
   "outputs": [],
   "source": [
    "def agrupar(row):\n",
    "    i='Accidente cerebrovascular isquémico en territorio de arteria cerebral posterior (AP)'\n",
    "    j='Accidente cerebrovascular isquémico en territorio de arteria cerebral posterior (Dx)'\n",
    "    if row[i]==row[j]:\n",
    "        return row[i]\n",
    "    elif row[i]>row[j]:\n",
    "        return row[i]\n",
    "    else:\n",
    "        return row[j]\n",
    "\n",
    "datos['Accidente cerebrovascular isquémico (1)']=datos.apply(lambda row: agrupar(row),axis=1)\n",
    "\n",
    "una='Accidente cerebrovascular isquémico en territorio de arteria cerebral posterior (AP)'\n",
    "dos='Accidente cerebrovascular isquémico en territorio de arteria cerebral posterior (Dx)'\n",
    "datos.drop([una,dos],axis=1,inplace=True)"
   ]
  },
  {
   "cell_type": "code",
   "execution_count": null,
   "metadata": {},
   "outputs": [],
   "source": [
    "def agrupar(row):\n",
    "    i='Accidente cerebrovascular isquémico en territorio de arteria cerebral media (AP)'\n",
    "    j='Accidente cerebrovascular isquémico en territorio de arteria cerebral media (Dx)'\n",
    "    if row[i]==row[j]:\n",
    "        return row[i]\n",
    "    elif row[i]>row[j]:\n",
    "        return row[i]\n",
    "    else:\n",
    "        return row[j]\n",
    "\n",
    "datos['Accidente cerebrovascular isquémico (2)']=datos.apply(lambda row: agrupar(row),axis=1)\n",
    "\n",
    "una='Accidente cerebrovascular isquémico en territorio de arteria cerebral media (AP)'\n",
    "dos='Accidente cerebrovascular isquémico en territorio de arteria cerebral media (Dx)'\n",
    "datos.drop([una,dos],axis=1,inplace=True)"
   ]
  },
  {
   "cell_type": "code",
   "execution_count": null,
   "metadata": {},
   "outputs": [],
   "source": [
    "def agrupar(row):\n",
    "    i='Accidente cerebrovascular isquémico agudo (AP)'\n",
    "    j='Accidente cerebrovascular isquémico agudo (Dx)'\n",
    "    if row[i]==row[j]:\n",
    "        return row[i]\n",
    "    elif row[i]>row[j]:\n",
    "        return row[i]\n",
    "    else:\n",
    "        return row[j]\n",
    "\n",
    "datos['Accidente cerebrovascular isquémico (3)']=datos.apply(lambda row: agrupar(row),axis=1)\n",
    "\n",
    "una='Accidente cerebrovascular isquémico agudo (AP)'\n",
    "dos='Accidente cerebrovascular isquémico agudo (Dx)'\n",
    "datos.drop([una,dos],axis=1,inplace=True)"
   ]
  },
  {
   "cell_type": "code",
   "execution_count": null,
   "metadata": {},
   "outputs": [],
   "source": [
    "def agrupar(row):\n",
    "    i='Accidente cerebrovascular isquémico en territorio de arteria cerebral anterior (AP)'\n",
    "    j='Accidente cerebrovascular isquémico (0)'\n",
    "    if row[i]==row[j]:\n",
    "        return row[i]\n",
    "    elif row[i]>row[j]:\n",
    "        return row[i]\n",
    "    else:\n",
    "        return row[j]\n",
    "\n",
    "datos['Accidente cerebrovascular isquémico (4)']=datos.apply(lambda row: agrupar(row),axis=1)\n",
    "\n",
    "una='Accidente cerebrovascular isquémico en territorio de arteria cerebral anterior (AP)'\n",
    "dos='Accidente cerebrovascular isquémico (0)'\n",
    "datos.drop([una,dos],axis=1,inplace=True)"
   ]
  },
  {
   "cell_type": "code",
   "execution_count": null,
   "metadata": {},
   "outputs": [],
   "source": [
    "def agrupar(row):\n",
    "    i='Accidente cerebrovascular isquémico (1)'\n",
    "    j='Accidente cerebrovascular isquémico (2)'\n",
    "    if row[i]==row[j]:\n",
    "        return row[i]\n",
    "    elif row[i]>row[j]:\n",
    "        return row[i]\n",
    "    else:\n",
    "        return row[j]\n",
    "\n",
    "datos['Accidente cerebrovascular isquémico (5)']=datos.apply(lambda row: agrupar(row),axis=1)\n",
    "\n",
    "una='Accidente cerebrovascular isquémico (1)'\n",
    "dos='Accidente cerebrovascular isquémico (2)'\n",
    "datos.drop([una,dos],axis=1,inplace=True)"
   ]
  },
  {
   "cell_type": "code",
   "execution_count": null,
   "metadata": {},
   "outputs": [],
   "source": [
    "def agrupar(row):\n",
    "    i='Accidente cerebrovascular isquémico (3)'\n",
    "    j='Accidente cerebrovascular isquémico (4)'\n",
    "    if row[i]==row[j]:\n",
    "        return row[i]\n",
    "    elif row[i]>row[j]:\n",
    "        return row[i]\n",
    "    else:\n",
    "        return row[j]\n",
    "\n",
    "datos['Accidente cerebrovascular isquémico (6)']=datos.apply(lambda row: agrupar(row),axis=1)\n",
    "\n",
    "una='Accidente cerebrovascular isquémico (3)'\n",
    "dos='Accidente cerebrovascular isquémico (4)'\n",
    "datos.drop([una,dos],axis=1,inplace=True)"
   ]
  },
  {
   "cell_type": "code",
   "execution_count": null,
   "metadata": {},
   "outputs": [],
   "source": [
    "def agrupar(row):\n",
    "    i='Accidente cerebrovascular isquémico (5)'\n",
    "    j='Accidente cerebrovascular isquémico (6)'\n",
    "    if row[i]==row[j]:\n",
    "        return row[i]\n",
    "    elif row[i]>row[j]:\n",
    "        return row[i]\n",
    "    else:\n",
    "        return row[j]\n",
    "\n",
    "datos['Accidente cerebrovascular isquémico (To)']=datos.apply(lambda row: agrupar(row),axis=1)\n",
    "\n",
    "una='Accidente cerebrovascular isquémico (5)'\n",
    "dos='Accidente cerebrovascular isquémico (6)'\n",
    "datos.drop([una,dos],axis=1,inplace=True)"
   ]
  },
  {
   "cell_type": "code",
   "execution_count": null,
   "metadata": {},
   "outputs": [],
   "source": [
    "def agrupar(row):\n",
    "    i='Trastorno de los vasos capilares (AP)'\n",
    "    j='Trastorno de los vasos capilares (Dx)'\n",
    "    if row[i]==row[j]:\n",
    "        return row[i]\n",
    "    elif row[i]>row[j]:\n",
    "        return row[i]\n",
    "    else:\n",
    "        return row[j]\n",
    "\n",
    "datos['Trastorno de los vasos capilares (To)']=datos.apply(lambda row: agrupar(row),axis=1)\n",
    "\n",
    "una='Trastorno de los vasos capilares (AP)'\n",
    "dos='Trastorno de los vasos capilares (Dx)'\n",
    "datos.drop([una,dos],axis=1,inplace=True)"
   ]
  },
  {
   "cell_type": "code",
   "execution_count": null,
   "metadata": {},
   "outputs": [],
   "source": [
    "def agrupar(row):\n",
    "    i='Demencia vascular (AP)'\n",
    "    j='Demencia vascular (Dx)'\n",
    "    if row[i]==row[j]:\n",
    "        return row[i]\n",
    "    elif row[i]>row[j]:\n",
    "        return row[i]\n",
    "    else:\n",
    "        return row[j]\n",
    "\n",
    "datos['Demencia vascular (0)']=datos.apply(lambda row: agrupar(row),axis=1)\n",
    "\n",
    "una='Demencia vascular (AP)'\n",
    "dos='Demencia vascular (Dx)'\n",
    "datos.drop([una,dos],axis=1,inplace=True)"
   ]
  },
  {
   "cell_type": "code",
   "execution_count": null,
   "metadata": {},
   "outputs": [],
   "source": [
    "def agrupar(row):\n",
    "    i='Demencia multinfarto (AP)'\n",
    "    j='Demencia vascular subcortical (Dx)'\n",
    "    if row[i]==row[j]:\n",
    "        return row[i]\n",
    "    elif row[i]>row[j]:\n",
    "        return row[i]\n",
    "    else:\n",
    "        return row[j]\n",
    "\n",
    "datos['Demencia vascular (1)']=datos.apply(lambda row: agrupar(row),axis=1)\n",
    "\n",
    "una='Demencia multinfarto (AP)'\n",
    "dos='Demencia vascular subcortical (Dx)'\n",
    "datos.drop([una,dos],axis=1,inplace=True)"
   ]
  },
  {
   "cell_type": "code",
   "execution_count": null,
   "metadata": {},
   "outputs": [],
   "source": [
    "def agrupar(row):\n",
    "    i='Demencia vascular mixta cortical y subcortical (Dx)'\n",
    "    j='Demencia vascular (0)'\n",
    "    if row[i]==row[j]:\n",
    "        return row[i]\n",
    "    elif row[i]>row[j]:\n",
    "        return row[i]\n",
    "    else:\n",
    "        return row[j]\n",
    "\n",
    "datos['Demencia vascular (3)']=datos.apply(lambda row: agrupar(row),axis=1)\n",
    "\n",
    "una='Demencia vascular mixta cortical y subcortical (Dx)'\n",
    "dos='Demencia vascular (0)'\n",
    "datos.drop([una,dos],axis=1,inplace=True)"
   ]
  },
  {
   "cell_type": "code",
   "execution_count": null,
   "metadata": {},
   "outputs": [],
   "source": [
    "def agrupar(row):\n",
    "    i='Demencia vascular (1)'\n",
    "    j='Demencia vascular (3)'\n",
    "    if row[i]==row[j]:\n",
    "        return row[i]\n",
    "    elif row[i]>row[j]:\n",
    "        return row[i]\n",
    "    else:\n",
    "        return row[j]\n",
    "\n",
    "datos['Demencia vascular (To)']=datos.apply(lambda row: agrupar(row),axis=1)\n",
    "\n",
    "una='Demencia vascular (1)'\n",
    "dos='Demencia vascular (3)'\n",
    "datos.drop([una,dos],axis=1,inplace=True)"
   ]
  },
  {
   "cell_type": "code",
   "execution_count": null,
   "metadata": {},
   "outputs": [],
   "source": [
    "def agrupar(row):\n",
    "    i='Atrofia cerebral (AP)'\n",
    "    j='Atrofia cerebral (Dx)'\n",
    "    if row[i]==row[j]:\n",
    "        return row[i]\n",
    "    elif row[i]>row[j]:\n",
    "        return row[i]\n",
    "    else:\n",
    "        return row[j]\n",
    "\n",
    "datos['Atrofia cerebral (To)']=datos.apply(lambda row: agrupar(row),axis=1)\n",
    "\n",
    "una='Atrofia cerebral (AP)'\n",
    "dos='Atrofia cerebral (Dx)'\n",
    "datos.drop([una,dos],axis=1,inplace=True)"
   ]
  },
  {
   "cell_type": "code",
   "execution_count": null,
   "metadata": {},
   "outputs": [],
   "source": [
    "def agrupar(row):\n",
    "    i='Cognición alterada (AP)'\n",
    "    j='Cognición alterada (Dx)'\n",
    "    if row[i]==row[j]:\n",
    "        return row[i]\n",
    "    elif row[i]>row[j]:\n",
    "        return row[i]\n",
    "    else:\n",
    "        return row[j]\n",
    "\n",
    "datos['Cognición alterada (To)']=datos.apply(lambda row: agrupar(row),axis=1)\n",
    "\n",
    "una='Cognición alterada (AP)'\n",
    "dos='Cognición alterada (Dx)'\n",
    "datos.drop([una,dos],axis=1,inplace=True)"
   ]
  },
  {
   "cell_type": "code",
   "execution_count": null,
   "metadata": {},
   "outputs": [],
   "source": [
    "def agrupar(row):\n",
    "    i='Deterioro cognitivo (AP)'\n",
    "    j='Deterioro cognitivo (Dx)'\n",
    "    if row[i]==row[j]:\n",
    "        return row[i]\n",
    "    elif row[i]>row[j]:\n",
    "        return row[i]\n",
    "    else:\n",
    "        return row[j]\n",
    "\n",
    "datos['Deterioro cognitivo (0)']=datos.apply(lambda row: agrupar(row),axis=1)\n",
    "\n",
    "una='Deterioro cognitivo (AP)'\n",
    "dos='Deterioro cognitivo (Dx)'\n",
    "datos.drop([una,dos],axis=1,inplace=True)"
   ]
  },
  {
   "cell_type": "code",
   "execution_count": null,
   "metadata": {},
   "outputs": [],
   "source": [
    "def agrupar(row):\n",
    "    i='Cardiopatía hipertensiva (AP)'\n",
    "    j='Cardiopatía hipertensiva (Dx)'\n",
    "    if row[i]==row[j]:\n",
    "        return row[i]\n",
    "    elif row[i]>row[j]:\n",
    "        return row[i]\n",
    "    else:\n",
    "        return row[j]\n",
    "\n",
    "datos['Cardiopatía hipertensiva (To)']=datos.apply(lambda row: agrupar(row),axis=1)\n",
    "\n",
    "una='Cardiopatía hipertensiva (AP)'\n",
    "dos='Cardiopatía hipertensiva (Dx)'\n",
    "datos.drop([una,dos],axis=1,inplace=True)"
   ]
  },
  {
   "cell_type": "code",
   "execution_count": null,
   "metadata": {},
   "outputs": [],
   "source": [
    "def agrupar(row):\n",
    "    i='Cognición alterada (To)'\n",
    "    j='Deterioro cognitivo (0)'\n",
    "    if row[i]==row[j]:\n",
    "        return row[i]\n",
    "    elif row[i]>row[j]:\n",
    "        return row[i]\n",
    "    else:\n",
    "        return row[j]\n",
    "\n",
    "datos['Deterioro cognitivo (To)']=datos.apply(lambda row: agrupar(row),axis=1)\n",
    "\n",
    "una='Cognición alterada (To)'\n",
    "dos='Deterioro cognitivo (0)'\n",
    "datos.drop([una,dos],axis=1,inplace=True)"
   ]
  },
  {
   "cell_type": "code",
   "execution_count": null,
   "metadata": {},
   "outputs": [],
   "source": [
    "def agrupar(row):\n",
    "    i='Cardiopatía isquémica (AP)'\n",
    "    j='Cardiopatía isquémica (Dx)'\n",
    "    if row[i]==row[j]:\n",
    "        return row[i]\n",
    "    elif row[i]>row[j]:\n",
    "        return row[i]\n",
    "    else:\n",
    "        return row[j]\n",
    "\n",
    "datos['Cardiopatía isquémica (To)']=datos.apply(lambda row: agrupar(row),axis=1)\n",
    "\n",
    "una='Cardiopatía isquémica (AP)'\n",
    "dos='Cardiopatía isquémica (Dx)'\n",
    "datos.drop([una,dos],axis=1,inplace=True)"
   ]
  },
  {
   "cell_type": "code",
   "execution_count": null,
   "metadata": {},
   "outputs": [],
   "source": [
    "def agrupar(row):\n",
    "    i='Infarto agudo de miocardio (AP)'\n",
    "    j='Infarto agudo de miocardio (Dx)'\n",
    "    if row[i]==row[j]:\n",
    "        return row[i]\n",
    "    elif row[i]>row[j]:\n",
    "        return row[i]\n",
    "    else:\n",
    "        return row[j]\n",
    "\n",
    "datos['Infarto agudo de miocardio (To)']=datos.apply(lambda row: agrupar(row),axis=1)\n",
    "\n",
    "una='Infarto agudo de miocardio (AP)'\n",
    "dos='Infarto agudo de miocardio (Dx)'\n",
    "datos.drop([una,dos],axis=1,inplace=True)"
   ]
  },
  {
   "cell_type": "code",
   "execution_count": null,
   "metadata": {},
   "outputs": [],
   "source": [
    "def agrupar(row):\n",
    "    i='Infarto agudo de miocardio sin onda Q (AP)'\n",
    "    j='Infarto agudo de miocardio sin onda Q (Dx)'\n",
    "    if row[i]==row[j]:\n",
    "        return row[i]\n",
    "    elif row[i]>row[j]:\n",
    "        return row[i]\n",
    "    else:\n",
    "        return row[j]\n",
    "\n",
    "datos['Infarto agudo de miocardio sin onda Q (To)']=datos.apply(lambda row: agrupar(row),axis=1)\n",
    "\n",
    "una='Infarto agudo de miocardio sin onda Q (AP)'\n",
    "dos='Infarto agudo de miocardio sin onda Q (Dx)'\n",
    "datos.drop([una,dos],axis=1,inplace=True)"
   ]
  },
  {
   "cell_type": "code",
   "execution_count": null,
   "metadata": {},
   "outputs": [],
   "source": [
    "def agrupar(row):\n",
    "    i='Insuficiencia cardíaca sistólica (AP)'\n",
    "    j='Insuficiencia cardíaca diastólica (AP)'\n",
    "    if row[i]==row[j]:\n",
    "        return row[i]\n",
    "    elif row[i]>row[j]:\n",
    "        return row[i]\n",
    "    else:\n",
    "        return row[j]\n",
    "\n",
    "datos['Insuficiencia cardíaca sistólica (To)']=datos.apply(lambda row: agrupar(row),axis=1)\n",
    "\n",
    "una='Insuficiencia cardíaca sistólica (AP)'\n",
    "dos='Insuficiencia cardíaca diastólica (AP)'\n",
    "datos.drop([una,dos],axis=1,inplace=True)"
   ]
  },
  {
   "cell_type": "code",
   "execution_count": null,
   "metadata": {},
   "outputs": [],
   "source": [
    "def agrupar(row):\n",
    "    i='Insuficiencia cardíaca congestiva (AP)'\n",
    "    j='Insuficiencia cardíaca congestiva (Dx)'\n",
    "    if row[i]==row[j]:\n",
    "        return row[i]\n",
    "    elif row[i]>row[j]:\n",
    "        return row[i]\n",
    "    else:\n",
    "        return row[j]\n",
    "\n",
    "datos['Insuficiencia cardíaca congestiva (To)']=datos.apply(lambda row: agrupar(row),axis=1)\n",
    "\n",
    "una='Insuficiencia cardíaca congestiva (AP)'\n",
    "dos='Insuficiencia cardíaca congestiva (Dx)'\n",
    "datos.drop([una,dos],axis=1,inplace=True)"
   ]
  },
  {
   "cell_type": "code",
   "execution_count": null,
   "metadata": {},
   "outputs": [],
   "source": [
    "def agrupar(row):\n",
    "    i='Insuficiencia cardíaca congestiva secundaria (AP)'\n",
    "    j='Insuficiencia cardíaca congestiva secundaria (Dx)'\n",
    "    if row[i]==row[j]:\n",
    "        return row[i]\n",
    "    elif row[i]>row[j]:\n",
    "        return row[i]\n",
    "    else:\n",
    "        return row[j]\n",
    "\n",
    "datos['Insuficiencia cardíaca congestiva secundaria (To)']=datos.apply(lambda row: agrupar(row),axis=1)\n",
    "\n",
    "una='Insuficiencia cardíaca congestiva secundaria (AP)'\n",
    "dos='Insuficiencia cardíaca congestiva secundaria (Dx)'\n",
    "datos.drop([una,dos],axis=1,inplace=True)"
   ]
  },
  {
   "cell_type": "code",
   "execution_count": null,
   "metadata": {},
   "outputs": [],
   "source": [
    "def agrupar(row):\n",
    "    i='Fibrilación auricular (AP)'\n",
    "    j='Fibrilación auricular (Dx)'\n",
    "    if row[i]==row[j]:\n",
    "        return row[i]\n",
    "    elif row[i]>row[j]:\n",
    "        return row[i]\n",
    "    else:\n",
    "        return row[j]\n",
    "\n",
    "datos['Fibrilación auricular (To)']=datos.apply(lambda row: agrupar(row),axis=1)\n",
    "\n",
    "una='Fibrilación auricular (AP)'\n",
    "dos='Fibrilación auricular (Dx)'\n",
    "datos.drop([una,dos],axis=1,inplace=True)"
   ]
  },
  {
   "cell_type": "code",
   "execution_count": null,
   "metadata": {},
   "outputs": [],
   "source": [
    "def agrupar(row):\n",
    "    i='Fibrilación auricular paroxística (AP)'\n",
    "    j='Fibrilación auricular paroxística (Dx)'\n",
    "    if row[i]==row[j]:\n",
    "        return row[i]\n",
    "    elif row[i]>row[j]:\n",
    "        return row[i]\n",
    "    else:\n",
    "        return row[j]\n",
    "\n",
    "datos['Fibrilación auricular paroxística (To)']=datos.apply(lambda row: agrupar(row),axis=1)\n",
    "\n",
    "una='Fibrilación auricular paroxística (AP)'\n",
    "dos='Fibrilación auricular paroxística (Dx)'\n",
    "datos.drop([una,dos],axis=1,inplace=True)"
   ]
  },
  {
   "cell_type": "code",
   "execution_count": null,
   "metadata": {},
   "outputs": [],
   "source": [
    "def agrupar(row):\n",
    "    i='Fibrilación auricular permanente (AP)'\n",
    "    j='Fibrilación auricular permanente (Dx)'\n",
    "    if row[i]==row[j]:\n",
    "        return row[i]\n",
    "    elif row[i]>row[j]:\n",
    "        return row[i]\n",
    "    else:\n",
    "        return row[j]\n",
    "\n",
    "datos['Fibrilación auricular permanente (To)']=datos.apply(lambda row: agrupar(row),axis=1)\n",
    "\n",
    "una='Fibrilación auricular permanente (AP)'\n",
    "dos='Fibrilación auricular permanente (Dx)'\n",
    "datos.drop([una,dos],axis=1,inplace=True)"
   ]
  },
  {
   "cell_type": "code",
   "execution_count": null,
   "metadata": {},
   "outputs": [],
   "source": [
    "def agrupar(row):\n",
    "    i='Vasculopatía isquémica periférica (AP)'\n",
    "    j='Vasculopatía isquémica periférica (Dx)'\n",
    "    if row[i]==row[j]:\n",
    "        return row[i]\n",
    "    elif row[i]>row[j]:\n",
    "        return row[i]\n",
    "    else:\n",
    "        return row[j]\n",
    "\n",
    "datos['Vasculopatía isquémica periférica (To)']=datos.apply(lambda row: agrupar(row),axis=1)\n",
    "\n",
    "una='Vasculopatía isquémica periférica (AP)'\n",
    "dos='Vasculopatía isquémica periférica (Dx)'\n",
    "datos.drop([una,dos],axis=1,inplace=True)"
   ]
  },
  {
   "cell_type": "code",
   "execution_count": null,
   "metadata": {},
   "outputs": [],
   "source": [
    "def agrupar(row):\n",
    "    i='Dilatación de la aorta (AP)'\n",
    "    j='Dilatación de la aorta (Dx)'\n",
    "    if row[i]==row[j]:\n",
    "        return row[i]\n",
    "    elif row[i]>row[j]:\n",
    "        return row[i]\n",
    "    else:\n",
    "        return row[j]\n",
    "\n",
    "datos['Dilatación de la aorta (To)']=datos.apply(lambda row: agrupar(row),axis=1)\n",
    "\n",
    "una='Dilatación de la aorta (AP)'\n",
    "dos='Dilatación de la aorta (Dx)'\n",
    "datos.drop([una,dos],axis=1,inplace=True)"
   ]
  },
  {
   "cell_type": "code",
   "execution_count": null,
   "metadata": {},
   "outputs": [],
   "source": [
    "def agrupar(row):\n",
    "    i='Disfunción renal (AP)'\n",
    "    j='Disfunción renal (Dx)'\n",
    "    if row[i]==row[j]:\n",
    "        return row[i]\n",
    "    elif row[i]>row[j]:\n",
    "        return row[i]\n",
    "    else:\n",
    "        return row[j]\n",
    "\n",
    "datos['Disfunción renal (To)']=datos.apply(lambda row: agrupar(row),axis=1)\n",
    "\n",
    "una='Disfunción renal (AP)'\n",
    "dos='Disfunción renal (Dx)'\n",
    "datos.drop([una,dos],axis=1,inplace=True)"
   ]
  },
  {
   "cell_type": "code",
   "execution_count": null,
   "metadata": {},
   "outputs": [],
   "source": [
    "def agrupar(row):\n",
    "    i='Retinopatía hipertensiva (AP)'\n",
    "    j='Retinopatía hipertensiva (Dx)'\n",
    "    if row[i]==row[j]:\n",
    "        return row[i]\n",
    "    elif row[i]>row[j]:\n",
    "        return row[i]\n",
    "    else:\n",
    "        return row[j]\n",
    "\n",
    "datos['Retinopatía hipertensiva (To)']=datos.apply(lambda row: agrupar(row),axis=1)\n",
    "\n",
    "una='Retinopatía hipertensiva (AP)'\n",
    "dos='Retinopatía hipertensiva (Dx)'\n",
    "datos.drop([una,dos],axis=1,inplace=True)"
   ]
  },
  {
   "cell_type": "code",
   "execution_count": null,
   "metadata": {},
   "outputs": [],
   "source": [
    "def agrupar(row):\n",
    "    i='Diabetes mellitus (AP)'\n",
    "    j='Diabetes mellitus (Dx)'\n",
    "    if row[i]==row[j]:\n",
    "        return row[i]\n",
    "    elif row[i]>row[j]:\n",
    "        return row[i]\n",
    "    else:\n",
    "        return row[j]\n",
    "\n",
    "datos['Diabetes mellitus (0)']=datos.apply(lambda row: agrupar(row),axis=1)\n",
    "\n",
    "una='Diabetes mellitus (AP)'\n",
    "dos='Diabetes mellitus (Dx)'\n",
    "datos.drop([una,dos],axis=1,inplace=True)"
   ]
  },
  {
   "cell_type": "code",
   "execution_count": null,
   "metadata": {},
   "outputs": [],
   "source": [
    "def agrupar(row):\n",
    "    i='Diabetes mellitus tipo 2 (AP)'\n",
    "    j='Diabetes mellitus tipo 2 (Dx)'\n",
    "    if row[i]==row[j]:\n",
    "        return row[i]\n",
    "    elif row[i]>row[j]:\n",
    "        return row[i]\n",
    "    else:\n",
    "        return row[j]\n",
    "\n",
    "datos['Diabetes mellitus (1)']=datos.apply(lambda row: agrupar(row),axis=1)\n",
    "\n",
    "una='Diabetes mellitus tipo 2 (AP)'\n",
    "dos='Diabetes mellitus tipo 2 (Dx)'\n",
    "datos.drop([una,dos],axis=1,inplace=True)"
   ]
  },
  {
   "cell_type": "code",
   "execution_count": null,
   "metadata": {},
   "outputs": [],
   "source": [
    "def agrupar(row):\n",
    "    i='Diabetes mellitus (0)'\n",
    "    j='Diabetes mellitus (1)'\n",
    "    if row[i]==row[j]:\n",
    "        return row[i]\n",
    "    elif row[i]>row[j]:\n",
    "        return row[i]\n",
    "    else:\n",
    "        return row[j]\n",
    "\n",
    "datos['Diabetes mellitus (To)']=datos.apply(lambda row: agrupar(row),axis=1)\n",
    "\n",
    "una='Diabetes mellitus (0)'\n",
    "dos='Diabetes mellitus (1)'\n",
    "datos.drop([una,dos],axis=1,inplace=True)"
   ]
  },
  {
   "cell_type": "code",
   "execution_count": null,
   "metadata": {},
   "outputs": [],
   "source": [
    "def agrupar(row):\n",
    "    i='Síndrome de dependencia del tabaco (AP)'\n",
    "    j='Síndrome de dependencia del tabaco (Dx)'\n",
    "    if row[i]==row[j]:\n",
    "        return row[i]\n",
    "    elif row[i]>row[j]:\n",
    "        return row[i]\n",
    "    else:\n",
    "        return row[j]\n",
    "\n",
    "datos['Síndrome de dependencia del tabaco (0)']=datos.apply(lambda row: agrupar(row),axis=1)\n",
    "\n",
    "una='Síndrome de dependencia del tabaco (AP)'\n",
    "dos='Síndrome de dependencia del tabaco (Dx)'\n",
    "datos.drop([una,dos],axis=1,inplace=True)"
   ]
  },
  {
   "cell_type": "code",
   "execution_count": null,
   "metadata": {},
   "outputs": [],
   "source": [
    "def agrupar(row):\n",
    "    i='Tabaquismo (AP)'\n",
    "    j='Tabaquismo (Dx)'\n",
    "    if row[i]==row[j]:\n",
    "        return row[i]\n",
    "    elif row[i]>row[j]:\n",
    "        return row[i]\n",
    "    else:\n",
    "        return row[j]\n",
    "\n",
    "datos['Tabaquismo (0)']=datos.apply(lambda row: agrupar(row),axis=1)\n",
    "\n",
    "una='Tabaquismo (AP)'\n",
    "dos='Tabaquismo (Dx)'\n",
    "datos.drop([una,dos],axis=1,inplace=True)"
   ]
  },
  {
   "cell_type": "code",
   "execution_count": null,
   "metadata": {},
   "outputs": [],
   "source": [
    "def agrupar(row):\n",
    "    i='Síndrome de dependencia del tabaco (0)'\n",
    "    j='Tabaquismo (0)'\n",
    "    if row[i]==row[j]:\n",
    "        return row[i]\n",
    "    elif row[i]>row[j]:\n",
    "        return row[i]\n",
    "    else:\n",
    "        return row[j]\n",
    "\n",
    "datos['Tabaquismo (To)']=datos.apply(lambda row: agrupar(row),axis=1)\n",
    "\n",
    "una='Síndrome de dependencia del tabaco (0)'\n",
    "dos='Tabaquismo (0)'\n",
    "datos.drop([una,dos],axis=1,inplace=True)"
   ]
  },
  {
   "cell_type": "code",
   "execution_count": null,
   "metadata": {},
   "outputs": [],
   "source": [
    "def agrupar(row):\n",
    "    i='Hipercolesterolemia (AP)'\n",
    "    j='Hipercolesterolemia (Dx)'\n",
    "    if row[i]==row[j]:\n",
    "        return row[i]\n",
    "    elif row[i]>row[j]:\n",
    "        return row[i]\n",
    "    else:\n",
    "        return row[j]\n",
    "\n",
    "datos['Hipercolesterolemia (To)']=datos.apply(lambda row: agrupar(row),axis=1)\n",
    "\n",
    "una='Hipercolesterolemia (AP)'\n",
    "dos='Hipercolesterolemia (Dx)'\n",
    "datos.drop([una,dos],axis=1,inplace=True)"
   ]
  },
  {
   "cell_type": "code",
   "execution_count": null,
   "metadata": {},
   "outputs": [],
   "source": [
    "def agrupar(row):\n",
    "    i='Dislipemia sin tratamiento (AP)'\n",
    "    j='Dislipemia mixta (AP)'\n",
    "    if row[i]==row[j]:\n",
    "        return row[i]\n",
    "    elif row[i]>row[j]:\n",
    "        return row[i]\n",
    "    else:\n",
    "        return row[j]\n",
    "\n",
    "datos['Dislipemia sin tratamiento (0)']=datos.apply(lambda row: agrupar(row),axis=1)\n",
    "\n",
    "una='Dislipemia sin tratamiento (AP)'\n",
    "dos='Dislipemia mixta (AP)'\n",
    "datos.drop([una,dos],axis=1,inplace=True)"
   ]
  },
  {
   "cell_type": "code",
   "execution_count": null,
   "metadata": {},
   "outputs": [],
   "source": [
    "def agrupar(row):\n",
    "    i='Dislipemia mixta (Dx)'\n",
    "    j='Dislipemia sin tratamiento (0)'\n",
    "    if row[i]==row[j]:\n",
    "        return row[i]\n",
    "    elif row[i]>row[j]:\n",
    "        return row[i]\n",
    "    else:\n",
    "        return row[j]\n",
    "\n",
    "datos['Dislipemia (To)']=datos.apply(lambda row: agrupar(row),axis=1)\n",
    "\n",
    "una='Dislipemia sin tratamiento (0)'\n",
    "dos='Dislipemia mixta (Dx)'\n",
    "datos.drop([una,dos],axis=1,inplace=True)"
   ]
  },
  {
   "cell_type": "code",
   "execution_count": null,
   "metadata": {},
   "outputs": [],
   "source": [
    "def agrupar(row):\n",
    "    i='Obesidad (AP)'\n",
    "    j='Obesidad (Dx)'\n",
    "    if row[i]==row[j]:\n",
    "        return row[i]\n",
    "    elif row[i]>row[j]:\n",
    "        return row[i]\n",
    "    else:\n",
    "        return row[j]\n",
    "\n",
    "datos['Obesidad (0)']=datos.apply(lambda row: agrupar(row),axis=1)\n",
    "\n",
    "una='Obesidad (AP)'\n",
    "dos='Obesidad (Dx)'\n",
    "datos.drop([una,dos],axis=1,inplace=True)"
   ]
  },
  {
   "cell_type": "code",
   "execution_count": null,
   "metadata": {},
   "outputs": [],
   "source": [
    "def agrupar(row):\n",
    "    i='Obesidad mórbida (AP)'\n",
    "    j='Obesidad mórbida (Dx)'\n",
    "    if row[i]==row[j]:\n",
    "        return row[i]\n",
    "    elif row[i]>row[j]:\n",
    "        return row[i]\n",
    "    else:\n",
    "        return row[j]\n",
    "\n",
    "datos['Obesidad mórbida (To)']=datos.apply(lambda row: agrupar(row),axis=1)\n",
    "\n",
    "una='Obesidad mórbida (AP)'\n",
    "dos='Obesidad mórbida (Dx)'\n",
    "datos.drop([una,dos],axis=1,inplace=True)"
   ]
  },
  {
   "cell_type": "code",
   "execution_count": null,
   "metadata": {},
   "outputs": [],
   "source": [
    "def agrupar(row):\n",
    "    i='Obesidad central (AP)'\n",
    "    j='Obesidad central (Dx)'\n",
    "    if row[i]==row[j]:\n",
    "        return row[i]\n",
    "    elif row[i]>row[j]:\n",
    "        return row[i]\n",
    "    else:\n",
    "        return row[j]\n",
    "\n",
    "datos['Obesidad central (0)']=datos.apply(lambda row: agrupar(row),axis=1)\n",
    "\n",
    "una='Obesidad central (AP)'\n",
    "dos='Obesidad central (Dx)'\n",
    "datos.drop([una,dos],axis=1,inplace=True)"
   ]
  },
  {
   "cell_type": "code",
   "execution_count": null,
   "metadata": {},
   "outputs": [],
   "source": [
    "def agrupar(row):\n",
    "    i='Obesidad abdominal (AP)'\n",
    "    j='Obesidad central (0)'\n",
    "    if row[i]==row[j]:\n",
    "        return row[i]\n",
    "    elif row[i]>row[j]:\n",
    "        return row[i]\n",
    "    else:\n",
    "        return row[j]\n",
    "\n",
    "datos['Obesidad central (To)']=datos.apply(lambda row: agrupar(row),axis=1)\n",
    "\n",
    "una='Obesidad abdominal (AP)'\n",
    "dos='Obesidad central (0)'\n",
    "datos.drop([una,dos],axis=1,inplace=True)"
   ]
  },
  {
   "cell_type": "code",
   "execution_count": null,
   "metadata": {},
   "outputs": [],
   "source": [
    "def agrupar(row):\n",
    "    i='Síndrome metabólico X (AP)'\n",
    "    j='Síndrome metabólico X (Dx)'\n",
    "    if row[i]==row[j]:\n",
    "        return row[i]\n",
    "    elif row[i]>row[j]:\n",
    "        return row[i]\n",
    "    else:\n",
    "        return row[j]\n",
    "\n",
    "datos['Síndrome metabólico 0']=datos.apply(lambda row: agrupar(row),axis=1)\n",
    "\n",
    "una='Síndrome metabólico X (AP)'\n",
    "dos='Síndrome metabólico X (Dx)'\n",
    "datos.drop([una,dos],axis=1,inplace=True)"
   ]
  },
  {
   "cell_type": "code",
   "execution_count": null,
   "metadata": {},
   "outputs": [],
   "source": [
    "def agrupar(row):\n",
    "    i='Enfermedad metabólica (AP)'\n",
    "    j='Enfermedad metabólica (Dx)'\n",
    "    if row[i]==row[j]:\n",
    "        return row[i]\n",
    "    elif row[i]>row[j]:\n",
    "        return row[i]\n",
    "    else:\n",
    "        return row[j]\n",
    "\n",
    "datos['Síndrome metabólico 1']=datos.apply(lambda row: agrupar(row),axis=1)\n",
    "\n",
    "una='Enfermedad metabólica (AP)'\n",
    "dos='Enfermedad metabólica (Dx)'\n",
    "datos.drop([una,dos],axis=1,inplace=True)"
   ]
  },
  {
   "cell_type": "code",
   "execution_count": null,
   "metadata": {},
   "outputs": [],
   "source": [
    "def agrupar(row):\n",
    "    i='Síndrome metabólico 0'\n",
    "    j='Síndrome metabólico 1'\n",
    "    if row[i]==row[j]:\n",
    "        return row[i]\n",
    "    elif row[i]>row[j]:\n",
    "        return row[i]\n",
    "    else:\n",
    "        return row[j]\n",
    "\n",
    "datos['Síndrome metabólico (To)']=datos.apply(lambda row: agrupar(row),axis=1)\n",
    "\n",
    "una='Síndrome metabólico 0'\n",
    "dos='Síndrome metabólico 1'\n",
    "datos.drop([una,dos],axis=1,inplace=True)"
   ]
  },
  {
   "cell_type": "code",
   "execution_count": null,
   "metadata": {},
   "outputs": [],
   "source": [
    "def agrupar(row):\n",
    "    i='Obesidad (0)'\n",
    "    j='Obesidad mórbida (To)'\n",
    "    if row[i]==row[j]:\n",
    "        return row[i]\n",
    "    elif row[i]>row[j]:\n",
    "        return row[i]\n",
    "    else:\n",
    "        return row[j]\n",
    "\n",
    "datos['Obesidad (9)']=datos.apply(lambda row: agrupar(row),axis=1)\n",
    "\n",
    "una='Obesidad (0)'\n",
    "dos='Obesidad mórbida (To)'\n",
    "datos.drop([una,dos],axis=1,inplace=True)"
   ]
  },
  {
   "cell_type": "code",
   "execution_count": null,
   "metadata": {},
   "outputs": [],
   "source": [
    "def agrupar(row):\n",
    "    i='Obesidad central (To)'\n",
    "    j='Obesidad (9)'\n",
    "    if row[i]==row[j]:\n",
    "        return row[i]\n",
    "    elif row[i]>row[j]:\n",
    "        return row[i]\n",
    "    else:\n",
    "        return row[j]\n",
    "\n",
    "datos['Obesidad (To)']=datos.apply(lambda row: agrupar(row),axis=1)\n",
    "\n",
    "una='Obesidad central (To)'\n",
    "dos='Obesidad (9)'\n",
    "datos.drop([una,dos],axis=1,inplace=True)"
   ]
  },
  {
   "cell_type": "code",
   "execution_count": null,
   "metadata": {},
   "outputs": [],
   "source": [
    "def agrupar(row):\n",
    "    i='Alcoholismo (AP)'\n",
    "    j='Alcoholismo (Dx)'\n",
    "    if row[i]==row[j]:\n",
    "        return row[i]\n",
    "    elif row[i]>row[j]:\n",
    "        return row[i]\n",
    "    else:\n",
    "        return row[j]\n",
    "\n",
    "datos['Alcoholismo (0)']=datos.apply(lambda row: agrupar(row),axis=1)\n",
    "\n",
    "una='Alcoholismo (AP)'\n",
    "dos='Alcoholismo (Dx)'\n",
    "datos.drop([una,dos],axis=1,inplace=True)"
   ]
  },
  {
   "cell_type": "code",
   "execution_count": null,
   "metadata": {},
   "outputs": [],
   "source": [
    "def agrupar(row):\n",
    "    i='Bebedor de alcohol (AP)'\n",
    "    j='Bebedor de alcohol (Dx)'\n",
    "    if row[i]==row[j]:\n",
    "        return row[i]\n",
    "    elif row[i]>row[j]:\n",
    "        return row[i]\n",
    "    else:\n",
    "        return row[j]\n",
    "\n",
    "datos['Alcoholismo (1)']=datos.apply(lambda row: agrupar(row),axis=1)\n",
    "\n",
    "una='Bebedor de alcohol (AP)'\n",
    "dos='Bebedor de alcohol (Dx)'\n",
    "datos.drop([una,dos],axis=1,inplace=True)"
   ]
  },
  {
   "cell_type": "code",
   "execution_count": null,
   "metadata": {},
   "outputs": [],
   "source": [
    "def agrupar(row):\n",
    "    i='Alcoholismo (0)'\n",
    "    j='Alcoholismo (1)'\n",
    "    if row[i]==row[j]:\n",
    "        return row[i]\n",
    "    elif row[i]>row[j]:\n",
    "        return row[i]\n",
    "    else:\n",
    "        return row[j]\n",
    "\n",
    "datos['Alcoholismo (To)']=datos.apply(lambda row: agrupar(row),axis=1)\n",
    "\n",
    "una='Alcoholismo (0)'\n",
    "dos='Alcoholismo (1)'\n",
    "datos.drop([una,dos],axis=1,inplace=True)"
   ]
  },
  {
   "cell_type": "code",
   "execution_count": null,
   "metadata": {},
   "outputs": [],
   "source": [
    "def agrupar(row):\n",
    "    i='Análisis de orina (IC)'\n",
    "    j='Análisis de orina (ICP)'\n",
    "    if row[i]==row[j]:\n",
    "        return row[i]\n",
    "    elif row[i]>row[j]:\n",
    "        return row[i]\n",
    "    else:\n",
    "        return row[j]\n",
    "\n",
    "datos['Análisis de orina (To)']=datos.apply(lambda row: agrupar(row),axis=1)\n",
    "\n",
    "una='Análisis de orina (IC)'\n",
    "dos='Análisis de orina (ICP)'\n",
    "datos.drop([una,dos],axis=1,inplace=True)"
   ]
  },
  {
   "cell_type": "code",
   "execution_count": null,
   "metadata": {},
   "outputs": [],
   "source": [
    "def agrupar(row):\n",
    "    i='Hematuria (AP)'\n",
    "    j='Hematuria (AP).1'\n",
    "    if row[i]==row[j]:\n",
    "        return row[i]\n",
    "    elif row[i]>row[j]:\n",
    "        return row[i]\n",
    "    else:\n",
    "        return row[j]\n",
    "\n",
    "datos['Hematuria (To)']=datos.apply(lambda row: agrupar(row),axis=1)\n",
    "\n",
    "una='Hematuria (AP)'\n",
    "dos='Hematuria (AP).1'\n",
    "datos.drop([una,dos],axis=1,inplace=True)"
   ]
  },
  {
   "cell_type": "code",
   "execution_count": null,
   "metadata": {},
   "outputs": [],
   "source": [
    "def agrupar(row):\n",
    "    i='Doppler de riñón (IC)'\n",
    "    j='Doppler de riñón (ICP)'\n",
    "    if row[i]==row[j]:\n",
    "        return row[i]\n",
    "    elif row[i]>row[j]:\n",
    "        return row[i]\n",
    "    else:\n",
    "        return row[j]\n",
    "\n",
    "datos['Doppler de riñón (To)']=datos.apply(lambda row: agrupar(row),axis=1)\n",
    "\n",
    "una='Doppler de riñón (IC)'\n",
    "dos='Doppler de riñón (ICP)'\n",
    "datos.drop([una,dos],axis=1,inplace=True)"
   ]
  },
  {
   "cell_type": "code",
   "execution_count": null,
   "metadata": {},
   "outputs": [],
   "source": [
    "def agrupar(row):\n",
    "    i='ECG ambulatorio (IC)'\n",
    "    j='ECG ambulatorio (ICP)'\n",
    "    if row[i]==row[j]:\n",
    "        return row[i]\n",
    "    elif row[i]>row[j]:\n",
    "        return row[i]\n",
    "    else:\n",
    "        return row[j]\n",
    "\n",
    "datos['ECG ambulatorio (To)']=datos.apply(lambda row: agrupar(row),axis=1)\n",
    "\n",
    "una='ECG ambulatorio (IC)'\n",
    "dos='ECG ambulatorio (ICP)'\n",
    "datos.drop([una,dos],axis=1,inplace=True)"
   ]
  },
  {
   "cell_type": "code",
   "execution_count": null,
   "metadata": {},
   "outputs": [],
   "source": [
    "def agrupar(row):\n",
    "    i='Electrocardiograma de 24 horas (IC)'\n",
    "    j='Electrocardiograma de 24 horas (ICP)'\n",
    "    if row[i]==row[j]:\n",
    "        return row[i]\n",
    "    elif row[i]>row[j]:\n",
    "        return row[i]\n",
    "    else:\n",
    "        return row[j]\n",
    "\n",
    "datos['Electrocardiograma de 24 horas (To)']=datos.apply(lambda row: agrupar(row),axis=1)\n",
    "\n",
    "una='Electrocardiograma de 24 horas (IC)'\n",
    "dos='Electrocardiograma de 24 horas (ICP)'\n",
    "datos.drop([una,dos],axis=1,inplace=True)"
   ]
  },
  {
   "cell_type": "code",
   "execution_count": null,
   "metadata": {},
   "outputs": [],
   "source": [
    "def agrupar(row):\n",
    "    i='Electrocardiograma: fibrilación auricular (AP)'\n",
    "    j='Electrocardiograma: fibrilación auricular (Dx)'\n",
    "    if row[i]==row[j]:\n",
    "        return row[i]\n",
    "    elif row[i]>row[j]:\n",
    "        return row[i]\n",
    "    else:\n",
    "        return row[j]\n",
    "\n",
    "datos['Electrocardiograma: fibrilación auricular (To)']=datos.apply(lambda row: agrupar(row),axis=1)\n",
    "\n",
    "una='Electrocardiograma: fibrilación auricular (AP)'\n",
    "dos='Electrocardiograma: fibrilación auricular (Dx)'\n",
    "datos.drop([una,dos],axis=1,inplace=True)"
   ]
  },
  {
   "cell_type": "code",
   "execution_count": null,
   "metadata": {},
   "outputs": [],
   "source": [
    "def agrupar(row):\n",
    "    i='Electrocardiograma: bloqueo cardíaco (AP)'\n",
    "    j='Electrocardiograma: bloqueo cardíaco (Dx)'\n",
    "    if row[i]==row[j]:\n",
    "        return row[i]\n",
    "    elif row[i]>row[j]:\n",
    "        return row[i]\n",
    "    else:\n",
    "        return row[j]\n",
    "\n",
    "datos['Electrocardiograma: bloqueo cardíaco (To)']=datos.apply(lambda row: agrupar(row),axis=1)\n",
    "\n",
    "una='Electrocardiograma: bloqueo cardíaco (AP)'\n",
    "dos='Electrocardiograma: bloqueo cardíaco (Dx)'\n",
    "datos.drop([una,dos],axis=1,inplace=True)"
   ]
  },
  {
   "cell_type": "code",
   "execution_count": null,
   "metadata": {},
   "outputs": [],
   "source": [
    "def agrupar(row):\n",
    "    i='Electrocardiograma: bloqueo auriculoventricular completo (AP)'\n",
    "    j='Electrocardiograma: bloqueo auriculoventricular completo (Dx)'\n",
    "    if row[i]==row[j]:\n",
    "        return row[i]\n",
    "    elif row[i]>row[j]:\n",
    "        return row[i]\n",
    "    else:\n",
    "        return row[j]\n",
    "\n",
    "datos['Electrocardiograma: bloqueo auriculoventricular completo (To)']=datos.apply(lambda row: agrupar(row),axis=1)\n",
    "\n",
    "una='Electrocardiograma: bloqueo auriculoventricular completo (AP)'\n",
    "dos='Electrocardiograma: bloqueo auriculoventricular completo (Dx)'\n",
    "datos.drop([una,dos],axis=1,inplace=True)"
   ]
  },
  {
   "cell_type": "code",
   "execution_count": null,
   "metadata": {},
   "outputs": [],
   "source": [
    "def agrupar(row):\n",
    "    i='Bloqueo auriculoventricular de segundo grado tipo Mobitz I en electrocardiograma (AP)'\n",
    "    j='Bloqueo auriculoventricular de segundo grado tipo Mobitz I en electrocardiograma (Dx)'\n",
    "    if row[i]==row[j]:\n",
    "        return row[i]\n",
    "    elif row[i]>row[j]:\n",
    "        return row[i]\n",
    "    else:\n",
    "        return row[j]\n",
    "\n",
    "datos['Bloqueo auriculoventricular de segundo grado tipo Mobitz I en electrocardiograma (To)']=datos.apply(lambda row: agrupar(row),axis=1)\n",
    "\n",
    "una='Bloqueo auriculoventricular de segundo grado tipo Mobitz I en electrocardiograma (AP)'\n",
    "dos='Bloqueo auriculoventricular de segundo grado tipo Mobitz I en electrocardiograma (Dx)'\n",
    "datos.drop([una,dos],axis=1,inplace=True)"
   ]
  },
  {
   "cell_type": "code",
   "execution_count": null,
   "metadata": {},
   "outputs": [],
   "source": [
    "def agrupar(row):\n",
    "    i='Electrocardiograma: taquicardia supraventricular (AP)'\n",
    "    j='Electrocardiograma: arritmia ventricular (AP)'\n",
    "    if row[i]==row[j]:\n",
    "        return row[i]\n",
    "    elif row[i]>row[j]:\n",
    "        return row[i]\n",
    "    else:\n",
    "        return row[j]\n",
    "\n",
    "datos['Electrocardiograma: taquiarritmias (0)']=datos.apply(lambda row: agrupar(row),axis=1)\n",
    "\n",
    "una='Electrocardiograma: taquicardia supraventricular (AP)'\n",
    "dos='Electrocardiograma: arritmia ventricular (AP)'\n",
    "datos.drop([una,dos],axis=1,inplace=True)"
   ]
  },
  {
   "cell_type": "code",
   "execution_count": null,
   "metadata": {},
   "outputs": [],
   "source": [
    "def agrupar(row):\n",
    "    i='Electrocardiograma: fibrilación ventricular (Dx)'\n",
    "    j='Electrocardiograma: taquiarritmias (0)'\n",
    "    if row[i]==row[j]:\n",
    "        return row[i]\n",
    "    elif row[i]>row[j]:\n",
    "        return row[i]\n",
    "    else:\n",
    "        return row[j]\n",
    "\n",
    "datos['Electrocardiograma: taquiarritmias (To)']=datos.apply(lambda row: agrupar(row),axis=1)\n",
    "\n",
    "una='Electrocardiograma: fibrilación ventricular (Dx)'\n",
    "dos='Electrocardiograma: taquiarritmias (0)'\n",
    "datos.drop([una,dos],axis=1,inplace=True)"
   ]
  },
  {
   "cell_type": "code",
   "execution_count": null,
   "metadata": {},
   "outputs": [],
   "source": [
    "def agrupar(row):\n",
    "    i='Monitoreo electrocardiográfico (IC)'\n",
    "    j='Monitoreo electrocardiográfico (ICP)'\n",
    "    if row[i]==row[j]:\n",
    "        return row[i]\n",
    "    elif row[i]>row[j]:\n",
    "        return row[i]\n",
    "    else:\n",
    "        return row[j]\n",
    "\n",
    "datos['Monitoreo electrocardiográfico (To)']=datos.apply(lambda row: agrupar(row),axis=1)\n",
    "\n",
    "una='Monitoreo electrocardiográfico (IC)'\n",
    "dos='Monitoreo electrocardiográfico (ICP)'\n",
    "datos.drop([una,dos],axis=1,inplace=True)"
   ]
  },
  {
   "cell_type": "code",
   "execution_count": null,
   "metadata": {},
   "outputs": [],
   "source": [
    "def agrupar(row):\n",
    "    i='Dilatación de aurícula cardíaca (AP)'\n",
    "    j='Dilatación de aurícula cardíaca (Dx)'\n",
    "    if row[i]==row[j]:\n",
    "        return row[i]\n",
    "    elif row[i]>row[j]:\n",
    "        return row[i]\n",
    "    else:\n",
    "        return row[j]\n",
    "\n",
    "datos['Dilatación de aurícula cardíaca (0)']=datos.apply(lambda row: agrupar(row),axis=1)\n",
    "\n",
    "una='Dilatación de aurícula cardíaca (AP)'\n",
    "dos='Dilatación de aurícula cardíaca (Dx)'\n",
    "datos.drop([una,dos],axis=1,inplace=True)"
   ]
  },
  {
   "cell_type": "code",
   "execution_count": null,
   "metadata": {},
   "outputs": [],
   "source": [
    "def agrupar(row):\n",
    "    i='Dilatación auricular (AP)'\n",
    "    j='Dilatación auricular (Dx)'\n",
    "    if row[i]==row[j]:\n",
    "        return row[i]\n",
    "    elif row[i]>row[j]:\n",
    "        return row[i]\n",
    "    else:\n",
    "        return row[j]\n",
    "\n",
    "datos['Dilatación de aurícula cardíaca (1)']=datos.apply(lambda row: agrupar(row),axis=1)\n",
    "\n",
    "una='Dilatación auricular (AP)'\n",
    "dos='Dilatación auricular (Dx)'\n",
    "datos.drop([una,dos],axis=1,inplace=True)"
   ]
  },
  {
   "cell_type": "code",
   "execution_count": null,
   "metadata": {},
   "outputs": [],
   "source": [
    "def agrupar(row):\n",
    "    i='Hipersomnia diurna (AP)'\n",
    "    j='Hipersomnia (AP)'\n",
    "    if row[i]==row[j]:\n",
    "        return row[i]\n",
    "    elif row[i]>row[j]:\n",
    "        return row[i]\n",
    "    else:\n",
    "        return row[j]\n",
    "\n",
    "datos['Hipersomnia diurna (0)']=datos.apply(lambda row: agrupar(row),axis=1)\n",
    "\n",
    "una='Hipersomnia diurna (AP)'\n",
    "dos='Hipersomnia (AP)'\n",
    "datos.drop([una,dos],axis=1,inplace=True)"
   ]
  },
  {
   "cell_type": "code",
   "execution_count": null,
   "metadata": {},
   "outputs": [],
   "source": [
    "def agrupar(row):\n",
    "    i='Hipersomnia diurna (Dx)'\n",
    "    j='Hipersomnia (Dx)'\n",
    "    if row[i]==row[j]:\n",
    "        return row[i]\n",
    "    elif row[i]>row[j]:\n",
    "        return row[i]\n",
    "    else:\n",
    "        return row[j]\n",
    "\n",
    "datos['Hipersomnia diurna (2)']=datos.apply(lambda row: agrupar(row),axis=1)\n",
    "\n",
    "una='Hipersomnia diurna (Dx)'\n",
    "dos='Hipersomnia (Dx)'\n",
    "datos.drop([una,dos],axis=1,inplace=True)"
   ]
  },
  {
   "cell_type": "code",
   "execution_count": null,
   "metadata": {},
   "outputs": [],
   "source": [
    "def agrupar(row):\n",
    "    i='Edema agudo de pulmón (AP)'\n",
    "    j='Edema agudo de pulmón (Dx)'\n",
    "    if row[i]==row[j]:\n",
    "        return row[i]\n",
    "    elif row[i]>row[j]:\n",
    "        return row[i]\n",
    "    else:\n",
    "        return row[j]\n",
    "\n",
    "datos['Edema agudo de pulmón (0)']=datos.apply(lambda row: agrupar(row),axis=1)\n",
    "\n",
    "una='Edema agudo de pulmón (AP)'\n",
    "dos='Edema agudo de pulmón (Dx)'\n",
    "datos.drop([una,dos],axis=1,inplace=True)"
   ]
  },
  {
   "cell_type": "code",
   "execution_count": null,
   "metadata": {},
   "outputs": [],
   "source": [
    "def agrupar(row):\n",
    "    i='Edema agudo de pulmón de causa cardíaca (AP)'\n",
    "    j='Edema agudo de pulmón de causa cardíaca (Dx)'\n",
    "    if row[i]==row[j]:\n",
    "        return row[i]\n",
    "    elif row[i]>row[j]:\n",
    "        return row[i]\n",
    "    else:\n",
    "        return row[j]\n",
    "\n",
    "datos['Edema agudo de pulmón (1)']=datos.apply(lambda row: agrupar(row),axis=1)\n",
    "\n",
    "una='Edema agudo de pulmón de causa cardíaca (AP)'\n",
    "dos='Edema agudo de pulmón de causa cardíaca (Dx)'\n",
    "datos.drop([una,dos],axis=1,inplace=True)"
   ]
  },
  {
   "cell_type": "code",
   "execution_count": null,
   "metadata": {},
   "outputs": [],
   "source": [
    "def agrupar(row):\n",
    "    i='Edema agudo de pulmón (0)'\n",
    "    j='Edema agudo de pulmón (1)'\n",
    "    if row[i]==row[j]:\n",
    "        return row[i]\n",
    "    elif row[i]>row[j]:\n",
    "        return row[i]\n",
    "    else:\n",
    "        return row[j]\n",
    "\n",
    "datos['Edema agudo de pulmón (To)']=datos.apply(lambda row: agrupar(row),axis=1)\n",
    "\n",
    "una='Edema agudo de pulmón (0)'\n",
    "dos='Edema agudo de pulmón (1)'\n",
    "datos.drop([una,dos],axis=1,inplace=True)"
   ]
  },
  {
   "cell_type": "code",
   "execution_count": null,
   "metadata": {},
   "outputs": [],
   "source": [
    "def agrupar(row):\n",
    "    i='Hipersomnia diurna (0)'\n",
    "    j='Hipersomnia diurna (2)'\n",
    "    if row[i]==row[j]:\n",
    "        return row[i]\n",
    "    elif row[i]>row[j]:\n",
    "        return row[i]\n",
    "    else:\n",
    "        return row[j]\n",
    "\n",
    "datos['Hipersomnia diurna (To)']=datos.apply(lambda row: agrupar(row),axis=1)\n",
    "\n",
    "una='Hipersomnia diurna (0)'\n",
    "dos='Hipersomnia diurna (2)'\n",
    "datos.drop([una,dos],axis=1,inplace=True)"
   ]
  },
  {
   "cell_type": "code",
   "execution_count": null,
   "metadata": {},
   "outputs": [],
   "source": [
    "def agrupar(row):\n",
    "    i='Dilatación de aurícula cardíaca (0)'\n",
    "    j='Dilatación de aurícula cardíaca (1)'\n",
    "    if row[i]==row[j]:\n",
    "        return row[i]\n",
    "    elif row[i]>row[j]:\n",
    "        return row[i]\n",
    "    else:\n",
    "        return row[j]\n",
    "\n",
    "datos['Dilatación de aurícula cardíaca (To)']=datos.apply(lambda row: agrupar(row),axis=1)\n",
    "\n",
    "una='Dilatación de aurícula cardíaca (0)'\n",
    "dos='Dilatación de aurícula cardíaca (1)'\n",
    "datos.drop([una,dos],axis=1,inplace=True)"
   ]
  },
  {
   "cell_type": "code",
   "execution_count": null,
   "metadata": {},
   "outputs": [],
   "source": [
    "def agrupar(row):\n",
    "    i='Síndrome de apnea obstructiva del sueño (To) I'\n",
    "    j='Síndrome de apnea obstructiva del sueño (To) II'\n",
    "    if row[i]==row[j]:\n",
    "        return row[i]\n",
    "    elif row[i]>row[j]:\n",
    "        return row[i]\n",
    "    else:\n",
    "        return row[j]\n",
    "\n",
    "datos['Síndrome de apnea obstructiva del sueño (To)']=datos.apply(lambda row: agrupar(row),axis=1)\n",
    "\n",
    "una='Síndrome de apnea obstructiva del sueño (To) I'\n",
    "dos='Síndrome de apnea obstructiva del sueño (To) II'\n",
    "datos.drop([una,dos],axis=1,inplace=True)"
   ]
  },
  {
   "cell_type": "code",
   "execution_count": null,
   "metadata": {},
   "outputs": [],
   "source": [
    "def agrupar(row):\n",
    "    i='Hiperparatiroidismo (AP)'\n",
    "    j='Hiperparatiroidismo (Dx)'\n",
    "    if row[i]==row[j]:\n",
    "        return row[i]\n",
    "    elif row[i]>row[j]:\n",
    "        return row[i]\n",
    "    else:\n",
    "        return row[j]\n",
    "\n",
    "datos['Hiperparatiroidismo (To)']=datos.apply(lambda row: agrupar(row),axis=1)\n",
    "\n",
    "una='Hiperparatiroidismo (AP)'\n",
    "dos='Hiperparatiroidismo (Dx)'\n",
    "datos.drop([una,dos],axis=1,inplace=True)"
   ]
  },
  {
   "cell_type": "code",
   "execution_count": null,
   "metadata": {},
   "outputs": [],
   "source": [
    "def agrupar(row):\n",
    "    i='Hipertiroidismo (AP)'\n",
    "    j='Hipertiroidismo (Dx)'\n",
    "    if row[i]==row[j]:\n",
    "        return row[i]\n",
    "    elif row[i]>row[j]:\n",
    "        return row[i]\n",
    "    else:\n",
    "        return row[j]\n",
    "\n",
    "datos['Hipertiroidismo (To)']=datos.apply(lambda row: agrupar(row),axis=1)\n",
    "\n",
    "una='Hipertiroidismo (AP)'\n",
    "dos='Hipertiroidismo (Dx)'\n",
    "datos.drop([una,dos],axis=1,inplace=True)"
   ]
  },
  {
   "cell_type": "code",
   "execution_count": null,
   "metadata": {},
   "outputs": [],
   "source": [
    "def agrupar(row):\n",
    "    i='Electrocardiograma (IC)'\n",
    "    j='Electrocardiograma (ICP)'\n",
    "    if row[i]==row[j]:\n",
    "        return row[i]\n",
    "    elif row[i]>row[j]:\n",
    "        return row[i]\n",
    "    else:\n",
    "        return row[j]\n",
    "\n",
    "datos['Electrocardiograma (To)']=datos.apply(lambda row: agrupar(row),axis=1)\n",
    "\n",
    "una='Electrocardiograma (IC)'\n",
    "dos='Electrocardiograma (ICP)'\n",
    "datos.drop([una,dos],axis=1,inplace=True)"
   ]
  },
  {
   "cell_type": "code",
   "execution_count": null,
   "metadata": {},
   "outputs": [],
   "source": [
    "datos.shape"
   ]
  },
  {
   "cell_type": "code",
   "execution_count": null,
   "metadata": {},
   "outputs": [],
   "source": []
  },
  {
   "cell_type": "code",
   "execution_count": null,
   "metadata": {},
   "outputs": [],
   "source": []
  },
  {
   "cell_type": "code",
   "execution_count": null,
   "metadata": {},
   "outputs": [],
   "source": []
  },
  {
   "cell_type": "code",
   "execution_count": null,
   "metadata": {},
   "outputs": [],
   "source": [
    "                                         #DESDE AQUI\n",
    "#SUCIO SUCIO SUCIO SUCIO SUCIO SUCIO SUCIO SUCIO SUCIO SUCIO SUCIO SUCIO SUCIO SUCIO SUCIO SUCIO \n",
    "#SUCIO SUCIO SUCIO SUCIO SUCIO SUCIO SUCIO SUCIO SUCIO SUCIO SUCIO SUCIO SUCIO SUCIO SUCIO SUCIO \n",
    "#SUCIO SUCIO SUCIO SUCIO SUCIO SUCIO SUCIO SUCIO SUCIO SUCIO SUCIO SUCIO SUCIO SUCIO SUCIO SUCIO \n",
    "#SUCIO SUCIO SUCIO SUCIO SUCIO SUCIO SUCIO SUCIO SUCIO SUCIO SUCIO SUCIO SUCIO SUCIO SUCIO SUCIO \n",
    "#SUCIO SUCIO SUCIO SUCIO SUCIO SUCIO SUCIO SUCIO SUCIO SUCIO SUCIO SUCIO SUCIO SUCIO SUCIO SUCIO \n",
    "#SUCIO SUCIO SUCIO SUCIO SUCIO SUCIO SUCIO SUCIO SUCIO SUCIO SUCIO SUCIO SUCIO SUCIO SUCIO SUCIO "
   ]
  },
  {
   "cell_type": "code",
   "execution_count": null,
   "metadata": {},
   "outputs": [],
   "source": []
  },
  {
   "cell_type": "code",
   "execution_count": null,
   "metadata": {},
   "outputs": [],
   "source": []
  },
  {
   "cell_type": "code",
   "execution_count": null,
   "metadata": {},
   "outputs": [],
   "source": [
    "pacientes=datos.groupby(by=[\"Identificador de paciente\"]).count().reset_index()[[\"Identificador de paciente\",\"Identificador de episodio\"]].sort_values(by=\"Identificador de episodio\",ascending=True)\n",
    "pacientes.head()"
   ]
  },
  {
   "cell_type": "code",
   "execution_count": null,
   "metadata": {},
   "outputs": [],
   "source": [
    "episo_bajo=pacientes[pacientes[\"Identificador de episodio\"]==1]\n",
    "episo_bajo.shape"
   ]
  },
  {
   "cell_type": "code",
   "execution_count": null,
   "metadata": {},
   "outputs": [],
   "source": []
  },
  {
   "cell_type": "code",
   "execution_count": null,
   "metadata": {},
   "outputs": [],
   "source": []
  },
  {
   "cell_type": "code",
   "execution_count": null,
   "metadata": {},
   "outputs": [],
   "source": []
  },
  {
   "cell_type": "code",
   "execution_count": null,
   "metadata": {},
   "outputs": [],
   "source": [
    "                                         # HASTA AQUI\n",
    "#SUCIO SUCIO SUCIO SUCIO SUCIO SUCIO SUCIO SUCIO SUCIO SUCIO SUCIO SUCIO SUCIO SUCIO SUCIO SUCIO \n",
    "#SUCIO SUCIO SUCIO SUCIO SUCIO SUCIO SUCIO SUCIO SUCIO SUCIO SUCIO SUCIO SUCIO SUCIO SUCIO SUCIO \n",
    "#SUCIO SUCIO SUCIO SUCIO SUCIO SUCIO SUCIO SUCIO SUCIO SUCIO SUCIO SUCIO SUCIO SUCIO SUCIO SUCIO \n",
    "#SUCIO SUCIO SUCIO SUCIO SUCIO SUCIO SUCIO SUCIO SUCIO SUCIO SUCIO SUCIO SUCIO SUCIO SUCIO SUCIO "
   ]
  },
  {
   "cell_type": "code",
   "execution_count": null,
   "metadata": {},
   "outputs": [],
   "source": []
  },
  {
   "cell_type": "code",
   "execution_count": null,
   "metadata": {},
   "outputs": [],
   "source": []
  },
  {
   "cell_type": "code",
   "execution_count": null,
   "metadata": {},
   "outputs": [],
   "source": []
  },
  {
   "cell_type": "code",
   "execution_count": null,
   "metadata": {},
   "outputs": [],
   "source": []
  },
  {
   "cell_type": "code",
   "execution_count": null,
   "metadata": {},
   "outputs": [],
   "source": [
    "Tta=pd.read_csv(\"HTA_Tta_copia.csv\",sep=\";\")"
   ]
  },
  {
   "cell_type": "code",
   "execution_count": null,
   "metadata": {},
   "outputs": [],
   "source": [
    "Tta.head()"
   ]
  },
  {
   "cell_type": "code",
   "execution_count": null,
   "metadata": {},
   "outputs": [],
   "source": [
    "#Funcion para eliminar las columnas y las filas que tienen solo valores 0 \n",
    "\n",
    "borrar_t=vacias(Tta)\n",
    "Tta=Tta.drop(borrar_t,axis=1)\n",
    "Tta.drop([\"Tipo de documento\"],axis=1,inplace=True)"
   ]
  },
  {
   "cell_type": "code",
   "execution_count": null,
   "metadata": {},
   "outputs": [],
   "source": [
    "columnas=Tta.columns[5:].tolist()\n",
    "Tta['recuento'] = Tta[columnas].sum(axis=1)\n",
    "fil_vac=Tta[Tta[\"recuento\"]==0].index\n",
    "Tta.drop(fil_vac,axis=0,inplace=True)"
   ]
  },
  {
   "cell_type": "code",
   "execution_count": null,
   "metadata": {},
   "outputs": [],
   "source": [
    "#Unir datos de los sintomas de los pacientes con sus tratamientos:\n",
    "#Borro estas columnas para que no se dupliquen cuando la una las bases de datos.\n",
    "\n",
    "Tta_a=Tta.drop([\"Identificador de episodio\", \"Fecha del documento\",\"Sexo\",\"Edad\"],axis=1)        \n",
    "union=pd.merge(datos,Tta_a, on=\"Identificador de paciente\")"
   ]
  },
  {
   "cell_type": "code",
   "execution_count": null,
   "metadata": {},
   "outputs": [],
   "source": [
    "#Elimino las filas que no tengan ningun valor en la base de datos.\n",
    "\n",
    "columnas=union.columns[6:].tolist()\n",
    "union['recuento'] = union[columnas].sum(axis=1)\n",
    "fil_vac=union[union[\"recuento\"]==0].index\n",
    "union.drop(fil_vac,axis=0,inplace=True)"
   ]
  },
  {
   "cell_type": "code",
   "execution_count": null,
   "metadata": {},
   "outputs": [],
   "source": [
    "#Voy a fusionar todos los episodios de los pacientes en uno solo\n",
    "\n",
    "pacientes=union.drop([\"Identificador de episodio\",\"Fecha del documento\",\"Fecha del documento\",\"Tipo de documento\"],axis=1)\n",
    "\n",
    "\n"
   ]
  },
  {
   "cell_type": "code",
   "execution_count": null,
   "metadata": {},
   "outputs": [],
   "source": [
    "pacientes=pacientes.groupby(by=[\"Identificador de paciente\",\"Sexo\",\"Edad\"]).sum()\n",
    "pacientes.head()"
   ]
  },
  {
   "cell_type": "code",
   "execution_count": null,
   "metadata": {},
   "outputs": [],
   "source": [
    "pacientes.shape"
   ]
  },
  {
   "cell_type": "code",
   "execution_count": null,
   "metadata": {},
   "outputs": [],
   "source": [
    "def limpiar (e):\n",
    "    if e>=1:\n",
    "        return 1\n",
    "    else:\n",
    "        return 0"
   ]
  },
  {
   "cell_type": "code",
   "execution_count": null,
   "metadata": {},
   "outputs": [],
   "source": [
    "columnas=pacientes.columns[:]\n",
    "for x in pacientes.columns:\n",
    "    pacientes[x]=pacientes[x].apply(limpiar)"
   ]
  },
  {
   "cell_type": "code",
   "execution_count": null,
   "metadata": {},
   "outputs": [],
   "source": [
    "pacientes.head()"
   ]
  },
  {
   "cell_type": "code",
   "execution_count": null,
   "metadata": {},
   "outputs": [],
   "source": [
    "pacientes.reset_index(inplace=True)"
   ]
  },
  {
   "cell_type": "code",
   "execution_count": null,
   "metadata": {},
   "outputs": [],
   "source": [
    "pacientes.head()"
   ]
  },
  {
   "cell_type": "code",
   "execution_count": null,
   "metadata": {},
   "outputs": [],
   "source": [
    "#Funcion para pasar a int la columna sexo (0:F,1:M)\n",
    "\n",
    "def sexo (e):\n",
    "    if e==\"F\":\n",
    "        return 0\n",
    "    else:\n",
    "        return 1"
   ]
  },
  {
   "cell_type": "code",
   "execution_count": null,
   "metadata": {},
   "outputs": [],
   "source": [
    "pacientes[\"Sexo\"]=pacientes[\"Sexo\"].apply(sexo)"
   ]
  },
  {
   "cell_type": "code",
   "execution_count": null,
   "metadata": {},
   "outputs": [],
   "source": [
    "#agrupar=pacientes.groupby(['Identificador de paciente'])"
   ]
  },
  {
   "cell_type": "code",
   "execution_count": null,
   "metadata": {},
   "outputs": [],
   "source": [
    "#Elimino la columna Recuento ya que no la necesito.\n",
    "\n",
    "pacientes.drop([\"recuento\"],axis=1,inplace=True)"
   ]
  },
  {
   "cell_type": "code",
   "execution_count": null,
   "metadata": {},
   "outputs": [],
   "source": []
  },
  {
   "cell_type": "code",
   "execution_count": null,
   "metadata": {},
   "outputs": [],
   "source": [
    "#                                                                                                     AQUIIII"
   ]
  },
  {
   "cell_type": "code",
   "execution_count": null,
   "metadata": {},
   "outputs": [],
   "source": [
    "#Borrar las filas que no tenga los farmacos de la lista.\n",
    "\n",
    "\n",
    "farmac=pacientes.columns[-132:]\n",
    "\n",
    "pan=pacientes[farmac]\n"
   ]
  },
  {
   "cell_type": "code",
   "execution_count": null,
   "metadata": {},
   "outputs": [],
   "source": [
    "pan"
   ]
  },
  {
   "cell_type": "code",
   "execution_count": null,
   "metadata": {},
   "outputs": [],
   "source": [
    "for e in pan:\n",
    "    pan[\"nueva\"]=e"
   ]
  },
  {
   "cell_type": "code",
   "execution_count": null,
   "metadata": {},
   "outputs": [],
   "source": [
    "b=[]\n",
    "for ele in pan.iterrows():\n",
    "    if ele[1][0]>=1:\n",
    "        b.append(ele[0])"
   ]
  },
  {
   "cell_type": "code",
   "execution_count": null,
   "metadata": {},
   "outputs": [],
   "source": [
    "print(a[1])"
   ]
  },
  {
   "cell_type": "code",
   "execution_count": null,
   "metadata": {},
   "outputs": [],
   "source": [
    "print(b[0])\n",
    "pan.index"
   ]
  },
  {
   "cell_type": "code",
   "execution_count": null,
   "metadata": {},
   "outputs": [],
   "source": [
    "for e in range (15667):\n",
    "    print(pan.iloc[e].value_counts())"
   ]
  },
  {
   "cell_type": "code",
   "execution_count": null,
   "metadata": {},
   "outputs": [],
   "source": []
  },
  {
   "cell_type": "code",
   "execution_count": null,
   "metadata": {},
   "outputs": [],
   "source": []
  },
  {
   "cell_type": "code",
   "execution_count": null,
   "metadata": {},
   "outputs": [],
   "source": []
  },
  {
   "cell_type": "code",
   "execution_count": null,
   "metadata": {},
   "outputs": [],
   "source": []
  },
  {
   "cell_type": "code",
   "execution_count": null,
   "metadata": {},
   "outputs": [],
   "source": [
    "#                                                                                    HASTA   AQUI"
   ]
  },
  {
   "cell_type": "code",
   "execution_count": null,
   "metadata": {},
   "outputs": [],
   "source": [
    "#creo la base de datos con la que hacer el sistema de recomendacion.\n",
    "#pacientes: La base de datos de la union (datos + Tta_a)\n",
    "#pacientes_t: Base de datos traspuesta"
   ]
  },
  {
   "cell_type": "code",
   "execution_count": null,
   "metadata": {},
   "outputs": [],
   "source": [
    "#Creo la matriz de recomendación\n",
    "\n",
    "columnas=pacientes[\"Identificador de paciente\"].tolist()\n",
    "pacientes_t=pacientes.T\n",
    "pacientes_t.columns = columnas\n",
    "pacientes_t.drop([\"Identificador de paciente\"],axis=0,inplace=True)"
   ]
  },
  {
   "cell_type": "code",
   "execution_count": null,
   "metadata": {},
   "outputs": [],
   "source": [
    "pacientes_t.head()"
   ]
  },
  {
   "cell_type": "code",
   "execution_count": null,
   "metadata": {},
   "outputs": [],
   "source": [
    "distancia = pdist(pacientes_t.T, 'euclidean')\n",
    "\n",
    "distancia_matrix = squareform(distancia)\n",
    "\n",
    "distancia = pd.DataFrame(1/(1 + distancia_matrix), index=pacientes_t.columns, columns=pacientes_t.columns)\n",
    "distancia.head()"
   ]
  },
  {
   "cell_type": "code",
   "execution_count": null,
   "metadata": {},
   "outputs": [],
   "source": [
    "#Escojo un paciente al que recomendarle \n",
    "pacient=pacientes[pacientes[\"Identificador de paciente\"]==1046774]\n",
    "pacient"
   ]
  },
  {
   "cell_type": "code",
   "execution_count": null,
   "metadata": {},
   "outputs": [],
   "source": [
    "#Seleciono los 3 pacientes mas afines a las circustancias de nuestro paciente \n",
    "similar = distancia[1046774].sort_values(ascending=False)[1:]\n",
    "dic = dict(similar.head(3))"
   ]
  },
  {
   "cell_type": "code",
   "execution_count": null,
   "metadata": {},
   "outputs": [],
   "source": [
    "#Visualizo los pacientes guias\n",
    "guias= (list(dic.keys()))\n"
   ]
  },
  {
   "cell_type": "code",
   "execution_count": null,
   "metadata": {},
   "outputs": [],
   "source": [
    "pacientes_similares = pacientes_t[guias]\n",
    "pacientes_similares.head()"
   ]
  },
  {
   "cell_type": "code",
   "execution_count": null,
   "metadata": {},
   "outputs": [],
   "source": [
    "sd=pacientes_similares.loc[farmac]\n",
    "for e in sd.index:\n",
    "    print(pacientes_similares.loc[e].value_counts())\n"
   ]
  },
  {
   "cell_type": "code",
   "execution_count": null,
   "metadata": {},
   "outputs": [],
   "source": [
    "pacientes_similares.loc[\"Enalapril (IC)\",111877]"
   ]
  },
  {
   "cell_type": "code",
   "execution_count": null,
   "metadata": {},
   "outputs": [],
   "source": [
    "pacientes_similares[111877].value_counts()"
   ]
  },
  {
   "cell_type": "code",
   "execution_count": null,
   "metadata": {},
   "outputs": [],
   "source": [
    "tra_rec=Tta[Tta[\"Identificador de paciente\"]==981624]\n",
    "tra_rec"
   ]
  },
  {
   "cell_type": "code",
   "execution_count": null,
   "metadata": {},
   "outputs": [],
   "source": []
  },
  {
   "cell_type": "code",
   "execution_count": null,
   "metadata": {},
   "outputs": [],
   "source": [
    "purchase_records = pacientes_similares.groupby([\"Identificador de paciente\"]).sum()\n",
    "pr = purchase_records\n",
    "pr = pr.sort_values(by='', ascending=False)\n",
    "pr = pr.drop(['CustomerID', \"SalesID\", \"ProductID\"], axis=1)\n",
    "pr"
   ]
  },
  {
   "cell_type": "code",
   "execution_count": null,
   "metadata": {},
   "outputs": [],
   "source": []
  },
  {
   "cell_type": "code",
   "execution_count": null,
   "metadata": {},
   "outputs": [],
   "source": []
  },
  {
   "cell_type": "code",
   "execution_count": null,
   "metadata": {},
   "outputs": [],
   "source": []
  },
  {
   "cell_type": "code",
   "execution_count": null,
   "metadata": {},
   "outputs": [],
   "source": [
    "                                         # DESDE AQUI\n",
    "#SUCIO SUCIO SUCIO SUCIO SUCIO SUCIO SUCIO SUCIO SUCIO SUCIO SUCIO SUCIO SUCIO SUCIO SUCIO SUCIO \n",
    "#SUCIO SUCIO SUCIO SUCIO SUCIO SUCIO SUCIO SUCIO SUCIO SUCIO SUCIO SUCIO SUCIO SUCIO SUCIO SUCIO \n",
    "#SUCIO SUCIO SUCIO SUCIO SUCIO SUCIO SUCIO SUCIO SUCIO SUCIO SUCIO SUCIO SUCIO SUCIO SUCIO SUCIO \n",
    "#SUCIO SUCIO SUCIO SUCIO SUCIO SUCIO SUCIO SUCIO SUCIO SUCIO SUCIO SUCIO SUCIO SUCIO SUCIO SUCIO "
   ]
  },
  {
   "cell_type": "code",
   "execution_count": null,
   "metadata": {},
   "outputs": [],
   "source": []
  },
  {
   "cell_type": "code",
   "execution_count": null,
   "metadata": {},
   "outputs": [],
   "source": []
  },
  {
   "cell_type": "code",
   "execution_count": null,
   "metadata": {},
   "outputs": [],
   "source": []
  },
  {
   "cell_type": "code",
   "execution_count": null,
   "metadata": {},
   "outputs": [],
   "source": []
  },
  {
   "cell_type": "code",
   "execution_count": null,
   "metadata": {},
   "outputs": [],
   "source": []
  },
  {
   "cell_type": "code",
   "execution_count": null,
   "metadata": {},
   "outputs": [],
   "source": []
  },
  {
   "cell_type": "code",
   "execution_count": null,
   "metadata": {},
   "outputs": [],
   "source": [
    "pacientes=union.groupby(by=[\"Identificador de paciente\"]).count()[['Identificador de episodio']]\n",
    "pacientes.head()"
   ]
  },
  {
   "cell_type": "code",
   "execution_count": null,
   "metadata": {},
   "outputs": [],
   "source": []
  },
  {
   "cell_type": "code",
   "execution_count": null,
   "metadata": {},
   "outputs": [],
   "source": [
    "pacientes.index[1]"
   ]
  },
  {
   "cell_type": "code",
   "execution_count": null,
   "metadata": {},
   "outputs": [],
   "source": [
    "pacientes_iguales = union.loc[1:4]"
   ]
  },
  {
   "cell_type": "code",
   "execution_count": null,
   "metadata": {},
   "outputs": [],
   "source": [
    "pacientes_iguales.head()"
   ]
  },
  {
   "cell_type": "code",
   "execution_count": null,
   "metadata": {},
   "outputs": [],
   "source": [
    "union.loc[union['Identificador de paciente']]"
   ]
  },
  {
   "cell_type": "code",
   "execution_count": null,
   "metadata": {},
   "outputs": [],
   "source": [
    "union['Hipertensión arterial grado II (Dx)']"
   ]
  },
  {
   "cell_type": "code",
   "execution_count": null,
   "metadata": {},
   "outputs": [],
   "source": [
    "print(union['Hipertensión arterial grado I (Dx)'][1] + union['Hipertensión arterial grado II (Dx)'][1])"
   ]
  },
  {
   "cell_type": "code",
   "execution_count": null,
   "metadata": {},
   "outputs": [],
   "source": [
    "for columna in columnas:\n",
    "    print(union[columna]==1)"
   ]
  },
  {
   "cell_type": "code",
   "execution_count": null,
   "metadata": {},
   "outputs": [],
   "source": [
    "columnas_no = ['Identificador de paciente', 'Identificador de episodio', 'Fecha del documento', 'Tipo de documento', 'Sexo', 'Edad']\n",
    "columnas = [column for column in union.columns if column not in columnas_no]\n",
    "def unacolumna(data, columnas):\n",
    "    columnas = [column for column in union.columns if column not in columnas_no]\n",
    "    for row in range(len(data)):\n",
    "        if data['Identificador de paciente'][row] == data['Identificador de paciente'][row+1]:\n",
    "            for column in columnas:\n",
    "                print(data[column])\n",
    "                if data[column]==1 \n",
    "                    return 'hola'\n",
    "            \n",
    "            "
   ]
  },
  {
   "cell_type": "code",
   "execution_count": null,
   "metadata": {},
   "outputs": [],
   "source": [
    "pacientes=union.groupby(by=[\"Identificador de paciente\"]).count().reset_index()[[\"Identificador de paciente\",\"Identificador de episodio\"]].sort_values(by=\"Identificador de episodio\",ascending=True)\n",
    "pacientes.head()\n",
    "episo_bajo=pacientes[pacientes[\"Identificador de episodio\"]==1]\n",
    "episo_bajo.shape\n",
    "\n"
   ]
  },
  {
   "cell_type": "code",
   "execution_count": null,
   "metadata": {},
   "outputs": [],
   "source": [
    "pacientes=union[1:5]\n",
    "pacientes"
   ]
  },
  {
   "cell_type": "code",
   "execution_count": null,
   "metadata": {},
   "outputs": [],
   "source": [
    "uno=union[union[\"recuento\"]==1]\n",
    "\n",
    "uno.shape"
   ]
  },
  {
   "cell_type": "code",
   "execution_count": null,
   "metadata": {},
   "outputs": [],
   "source": [
    "pacientes=union.groupby(by=[\"Identificador de paciente\"]).sum()\n",
    "pacientes.head()"
   ]
  },
  {
   "cell_type": "code",
   "execution_count": null,
   "metadata": {},
   "outputs": [],
   "source": [
    "ver=pacientes[pacientes[\"Hipertensión arterial grado I (Dx)\"]>=1]\n",
    "ver"
   ]
  },
  {
   "cell_type": "code",
   "execution_count": null,
   "metadata": {},
   "outputs": [],
   "source": []
  },
  {
   "cell_type": "code",
   "execution_count": null,
   "metadata": {},
   "outputs": [],
   "source": []
  },
  {
   "cell_type": "code",
   "execution_count": null,
   "metadata": {},
   "outputs": [],
   "source": [
    "                                         # HASTA AQUI\n",
    "#SUCIO SUCIO SUCIO SUCIO SUCIO SUCIO SUCIO SUCIO SUCIO SUCIO SUCIO SUCIO SUCIO SUCIO SUCIO SUCIO \n",
    "#SUCIO SUCIO SUCIO SUCIO SUCIO SUCIO SUCIO SUCIO SUCIO SUCIO SUCIO SUCIO SUCIO SUCIO SUCIO SUCIO \n",
    "#SUCIO SUCIO SUCIO SUCIO SUCIO SUCIO SUCIO SUCIO SUCIO SUCIO SUCIO SUCIO SUCIO SUCIO SUCIO SUCIO \n",
    "#SUCIO SUCIO SUCIO SUCIO SUCIO SUCIO SUCIO SUCIO SUCIO SUCIO SUCIO SUCIO SUCIO SUCIO SUCIO SUCIO "
   ]
  },
  {
   "cell_type": "code",
   "execution_count": null,
   "metadata": {},
   "outputs": [],
   "source": []
  },
  {
   "cell_type": "code",
   "execution_count": null,
   "metadata": {},
   "outputs": [],
   "source": []
  },
  {
   "cell_type": "code",
   "execution_count": null,
   "metadata": {},
   "outputs": [],
   "source": []
  },
  {
   "cell_type": "code",
   "execution_count": null,
   "metadata": {},
   "outputs": [],
   "source": []
  },
  {
   "cell_type": "code",
   "execution_count": null,
   "metadata": {},
   "outputs": [],
   "source": []
  },
  {
   "cell_type": "code",
   "execution_count": null,
   "metadata": {},
   "outputs": [],
   "source": []
  },
  {
   "cell_type": "code",
   "execution_count": null,
   "metadata": {},
   "outputs": [],
   "source": []
  },
  {
   "cell_type": "code",
   "execution_count": null,
   "metadata": {},
   "outputs": [],
   "source": [
    "datos[\"Tipo de documento\"].hist();"
   ]
  },
  {
   "cell_type": "code",
   "execution_count": null,
   "metadata": {
    "scrolled": false
   },
   "outputs": [],
   "source": [
    "datos3=datos[(datos[\"Síndrome de apnea obstructiva del sueño (AP)\"]==1) & (datos[\"Síndrome de apnea obstructiva del sueño (Dx)\"]==1)]\n",
    "datos3"
   ]
  },
  {
   "cell_type": "code",
   "execution_count": null,
   "metadata": {},
   "outputs": [],
   "source": [
    "datos[\"Síndrome de apnea obstructiva del sueño (Dx)\"].value_counts()"
   ]
  },
  {
   "cell_type": "code",
   "execution_count": null,
   "metadata": {},
   "outputs": [],
   "source": [
    "datos[\"Síndrome de apnea obstructiva del sueño (AP)\"].value_counts()"
   ]
  },
  {
   "cell_type": "code",
   "execution_count": null,
   "metadata": {},
   "outputs": [],
   "source": [
    "datos3=datos[datos[\"Edad\"]==38]\n",
    "datos3"
   ]
  },
  {
   "cell_type": "code",
   "execution_count": null,
   "metadata": {},
   "outputs": [],
   "source": []
  },
  {
   "cell_type": "code",
   "execution_count": null,
   "metadata": {},
   "outputs": [],
   "source": [
    "datos[\"Sexo\"].value_counts().plot.pie(explode=[0,0.1], autopct='%1.1f%%')"
   ]
  },
  {
   "cell_type": "code",
   "execution_count": null,
   "metadata": {},
   "outputs": [],
   "source": [
    "datos.groupby(\"Identificador de episodio\")[\"Tipo de documento\"].value_counts().plot.bar()"
   ]
  },
  {
   "cell_type": "code",
   "execution_count": null,
   "metadata": {},
   "outputs": [],
   "source": [
    "datos[\"Edad\"].value_counts()"
   ]
  },
  {
   "cell_type": "code",
   "execution_count": null,
   "metadata": {},
   "outputs": [],
   "source": [
    "datos.columns"
   ]
  },
  {
   "cell_type": "code",
   "execution_count": null,
   "metadata": {},
   "outputs": [],
   "source": [
    "datos.Edad.hist();"
   ]
  },
  {
   "cell_type": "code",
   "execution_count": null,
   "metadata": {},
   "outputs": [],
   "source": [
    "datos[\"Identificador de paciente\"].value_counts()"
   ]
  },
  {
   "cell_type": "code",
   "execution_count": null,
   "metadata": {},
   "outputs": [],
   "source": []
  },
  {
   "cell_type": "code",
   "execution_count": null,
   "metadata": {},
   "outputs": [],
   "source": [
    "datos_ped=pd.read_csv(\"05-oct-19.csv\",sep=\";\")"
   ]
  },
  {
   "cell_type": "code",
   "execution_count": null,
   "metadata": {},
   "outputs": [],
   "source": [
    "datos_ped.head()"
   ]
  },
  {
   "cell_type": "code",
   "execution_count": null,
   "metadata": {},
   "outputs": [],
   "source": [
    "datos_ped.shape"
   ]
  },
  {
   "cell_type": "code",
   "execution_count": null,
   "metadata": {},
   "outputs": [],
   "source": [
    "datos_ped[\"Identificador de paciente\"].value_counts()"
   ]
  },
  {
   "cell_type": "code",
   "execution_count": null,
   "metadata": {},
   "outputs": [],
   "source": [
    "218149/44787"
   ]
  },
  {
   "cell_type": "code",
   "execution_count": null,
   "metadata": {},
   "outputs": [],
   "source": [
    "datitos=datos_ped[datos_ped[\"Identificador de paciente\"]==1000003]\n",
    "datitos"
   ]
  },
  {
   "cell_type": "code",
   "execution_count": null,
   "metadata": {},
   "outputs": [],
   "source": []
  },
  {
   "cell_type": "code",
   "execution_count": null,
   "metadata": {},
   "outputs": [],
   "source": []
  },
  {
   "cell_type": "code",
   "execution_count": null,
   "metadata": {},
   "outputs": [],
   "source": [
    "paciente=pd.read_csv(\"pacientes (2).csv\",sep=\";\")"
   ]
  },
  {
   "cell_type": "code",
   "execution_count": null,
   "metadata": {},
   "outputs": [],
   "source": [
    "paciente.shape"
   ]
  },
  {
   "cell_type": "code",
   "execution_count": null,
   "metadata": {},
   "outputs": [],
   "source": [
    "epis=pd.read_csv(\"episodios.csv\",sep=\";\")"
   ]
  },
  {
   "cell_type": "code",
   "execution_count": null,
   "metadata": {},
   "outputs": [],
   "source": [
    "epis.shape"
   ]
  },
  {
   "cell_type": "code",
   "execution_count": null,
   "metadata": {},
   "outputs": [],
   "source": []
  },
  {
   "cell_type": "code",
   "execution_count": null,
   "metadata": {},
   "outputs": [],
   "source": [
    "artists_billboard['moodEncoded'] = artists_billboard['mood'].map( {'Energizing': 6, \n",
    "                                        'Empowering': 6,\n",
    "                                        'Cool': 5, \n",
    "                                        'Yearning': 4, # anhelo, deseo, ansia\n",
    "                                        'Excited': 5, #emocionado\n",
    "                                        'Defiant': 3, \n",
    "                                        'Sensual': 2, \n",
    "                                        'Gritty': 3, #coraje \n",
    "                                        'Sophisticated': 4,\n",
    "                                        'Aggressive': 4, # provocativo\n",
    "                                        'Fiery': 4, #caracter fuerte\n",
    "                                        'Urgent': 3, \n",
    "                                        'Rowdy': 4, #ruidoso alboroto\n",
    "                                        'Sentimental': 4,\n",
    "                                        'Easygoing': 1, # sencillo\n",
    "                                        'Melancholy': 4, \n",
    "                                        'Romantic': 2, \n",
    "                                        'Peaceful': 1, \n",
    "                                        'Brooding': 4, # melancolico\n",
    "                                        'Upbeat': 5, #optimista alegre\n",
    "                                        'Stirring': 5, #emocionante\n",
    "                                        'Lively': 5, #animado\n",
    "                                        'Other': 0,'':0} ).astype(int)\n",
    "# Tempo Mapping \n",
    "artists_billboard['tempoEncoded'] = artists_billboard['tempo'].map( {'Fast Tempo': 0, 'Medium Tempo': 2, 'Slow Tempo': 1, '': 0} ).astype(int)\n",
    "# Genre Mapping \n",
    "artists_billboard['genreEncoded'] = artists_billboard['genre'].map( {'Urban': 4, \n",
    "                                          'Pop': 3, \n",
    "                                          'Traditional': 2, \n",
    "                                          'Alternative & Punk': 1,\n",
    "                                         'Electronica': 1, \n",
    "                                          'Rock': 1, \n",
    "                                          'Soundtrack': 0, \n",
    "                                          'Jazz': 0,\n",
    "                                          'Other':0,'':0} \n",
    "                                       ).astype(int)\n",
    "# artist_type Mapping \n",
    "artists_billboard['artist_typeEncoded'] = artists_billboard['artist_type'].map( {'Female': 2, 'Male': 3, 'Mixed': 1, '': 0} ).astype(int)\n",
    " \n",
    " \n",
    "# Mapping edad en la que llegaron al billboard\n",
    "artists_billboard.loc[ artists_billboard['edad_en_billboard'] <= 21, 'edadEncoded']                         = 0\n",
    "artists_billboard.loc[(artists_billboard['edad_en_billboard'] > 21) & (artists_billboard['edad_en_billboard'] <= 26), 'edadEncoded'] = 1\n",
    "artists_billboard.loc[(artists_billboard['edad_en_billboard'] > 26) & (artists_billboard['edad_en_billboard'] <= 30), 'edadEncoded'] = 2\n",
    "artists_billboard.loc[(artists_billboard['edad_en_billboard'] > 30) & (artists_billboard['edad_en_billboard'] <= 40), 'edadEncoded'] = 3\n",
    "artists_billboard.loc[ artists_billboard['edad_en_billboard'] > 40, 'edadEncoded'] = 4\n",
    " \n",
    "# Mapping Song Duration\n",
    "artists_billboard.loc[ artists_billboard['durationSeg'] <= 150, 'durationEncoded']                          = 0\n",
    "artists_billboard.loc[(artists_billboard['durationSeg'] > 150) & (artists_billboard['durationSeg'] <= 180), 'durationEncoded'] = 1\n",
    "artists_billboard.loc[(artists_billboard['durationSeg'] > 180) & (artists_billboard['durationSeg'] <= 210), 'durationEncoded'] = 2\n",
    "artists_billboard.loc[(artists_billboard['durationSeg'] > 210) & (artists_billboard['durationSeg'] <= 240), 'durationEncoded'] = 3\n",
    "artists_billboard.loc[(artists_billboard['durationSeg'] > 240) & (artists_billboard['durationSeg'] <= 270), 'durationEncoded'] = 4\n",
    "artists_billboard.loc[(artists_billboard['durationSeg'] > 270) & (artists_billboard['durationSeg'] <= 300), 'durationEncoded'] = 5\n",
    "artists_billboard.loc[ artists_billboard['durationSeg'] > 300, 'durationEncoded'] = 6"
   ]
  },
  {
   "cell_type": "code",
   "execution_count": null,
   "metadata": {},
   "outputs": [],
   "source": []
  },
  {
   "cell_type": "code",
   "execution_count": null,
   "metadata": {},
   "outputs": [],
   "source": []
  },
  {
   "cell_type": "code",
   "execution_count": null,
   "metadata": {},
   "outputs": [],
   "source": []
  }
 ],
 "metadata": {
  "kernelspec": {
   "display_name": "Python 3",
   "language": "python",
   "name": "python3"
  },
  "language_info": {
   "codemirror_mode": {
    "name": "ipython",
    "version": 3
   },
   "file_extension": ".py",
   "mimetype": "text/x-python",
   "name": "python",
   "nbconvert_exporter": "python",
   "pygments_lexer": "ipython3",
   "version": "3.7.4"
  }
 },
 "nbformat": 4,
 "nbformat_minor": 2
}
